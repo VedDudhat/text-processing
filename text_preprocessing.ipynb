{
  "metadata": {
    "kernelspec": {
      "language": "python",
      "display_name": "Python 3",
      "name": "python3"
    },
    "language_info": {
      "pygments_lexer": "ipython3",
      "nbconvert_exporter": "python",
      "version": "3.6.4",
      "file_extension": ".py",
      "codemirror_mode": {
        "name": "ipython",
        "version": 3
      },
      "name": "python",
      "mimetype": "text/x-python"
    },
    "kaggle": {
      "accelerator": "none",
      "dataSources": [
        {
          "sourceId": 320111,
          "sourceType": "datasetVersion",
          "datasetId": 134715
        }
      ],
      "dockerImageVersionId": 30152,
      "isInternetEnabled": false,
      "language": "python",
      "sourceType": "notebook",
      "isGpuEnabled": false
    },
    "colab": {
      "provenance": []
    }
  },
  "nbformat_minor": 0,
  "nbformat": 4,
  "cells": [
    {
      "cell_type": "code",
      "source": [
        "import numpy as np\n",
        "import pandas as pd\n",
        "import os\n",
        "\n"
      ],
      "metadata": {
        "_uuid": "8f2839f25d086af736a60e9eeb907d3b93b6e0e5",
        "_cell_guid": "b1076dfc-b9ad-4769-8c92-a6c4dae69d19",
        "execution": {
          "iopub.status.busy": "2021-12-08T21:08:07.12209Z",
          "iopub.execute_input": "2021-12-08T21:08:07.122338Z",
          "iopub.status.idle": "2021-12-08T21:08:07.137918Z",
          "shell.execute_reply.started": "2021-12-08T21:08:07.122313Z",
          "shell.execute_reply": "2021-12-08T21:08:07.137237Z"
        },
        "trusted": true,
        "id": "jMKf2xk2NoLf"
      },
      "outputs": [],
      "execution_count": 1
    },
    {
      "cell_type": "code",
      "source": [
        "df = pd.read_csv('/content/Top_rated_moves_dataset.csv.zip')"
      ],
      "metadata": {
        "execution": {
          "iopub.status.busy": "2021-12-08T21:08:08.709642Z",
          "iopub.execute_input": "2021-12-08T21:08:08.71031Z",
          "iopub.status.idle": "2021-12-08T21:08:10.561228Z",
          "shell.execute_reply.started": "2021-12-08T21:08:08.710274Z",
          "shell.execute_reply": "2021-12-08T21:08:10.560402Z"
        },
        "trusted": true,
        "id": "00IcHU46NoLg"
      },
      "outputs": [],
      "execution_count": 3
    },
    {
      "cell_type": "code",
      "source": [
        "df.shape"
      ],
      "metadata": {
        "execution": {
          "iopub.status.busy": "2021-12-08T10:21:20.441182Z",
          "iopub.execute_input": "2021-12-08T10:21:20.441483Z",
          "iopub.status.idle": "2021-12-08T10:21:20.447118Z",
          "shell.execute_reply.started": "2021-12-08T10:21:20.441438Z",
          "shell.execute_reply": "2021-12-08T10:21:20.446333Z"
        },
        "trusted": true,
        "colab": {
          "base_uri": "https://localhost:8080/"
        },
        "id": "FBYz6HptNoLh",
        "outputId": "02b26c68-7793-4fbe-ed1a-23d4dfdca969"
      },
      "outputs": [
        {
          "output_type": "execute_result",
          "data": {
            "text/plain": [
              "(8560, 7)"
            ]
          },
          "metadata": {},
          "execution_count": 4
        }
      ],
      "execution_count": 4
    },
    {
      "cell_type": "code",
      "source": [
        "df.head()"
      ],
      "metadata": {
        "execution": {
          "iopub.status.busy": "2021-12-08T10:16:47.977163Z",
          "iopub.execute_input": "2021-12-08T10:16:47.977772Z",
          "iopub.status.idle": "2021-12-08T10:16:47.999836Z",
          "shell.execute_reply.started": "2021-12-08T10:16:47.977723Z",
          "shell.execute_reply": "2021-12-08T10:16:47.999242Z"
        },
        "trusted": true,
        "colab": {
          "base_uri": "https://localhost:8080/",
          "height": 206
        },
        "id": "mZ70rmshNoLh",
        "outputId": "82436b40-ae30-47f5-873e-185b1514fee7"
      },
      "outputs": [
        {
          "output_type": "execute_result",
          "data": {
            "text/plain": [
              "       id                     title  \\\n",
              "0     238             The Godfather   \n",
              "1     278  The Shawshank Redemption   \n",
              "2  772071          Cuando Sea Joven   \n",
              "3     240     The Godfather Part II   \n",
              "4     424          Schindler's List   \n",
              "\n",
              "                                            overview release_date  popularity  \\\n",
              "0  Spanning the years 1945 to 1955, a chronicle o...   1972-03-14     129.885   \n",
              "1  Framed in the 1940s for the double murder of h...   1994-09-23      92.438   \n",
              "2  70-year-old Malena gets a second chance at lif...   2022-09-14      37.959   \n",
              "3  In the continuing saga of the Corleone crime f...   1974-12-20      80.308   \n",
              "4  The true story of how businessman Oskar Schind...   1993-12-15      50.098   \n",
              "\n",
              "   vote_average  vote_count  \n",
              "0           8.7       17637  \n",
              "1           8.7       23477  \n",
              "2           8.6         212  \n",
              "3           8.6       10688  \n",
              "4           8.6       13885  "
            ],
            "text/html": [
              "\n",
              "  <div id=\"df-33df892e-86f0-48f6-9db3-e97599629acf\" class=\"colab-df-container\">\n",
              "    <div>\n",
              "<style scoped>\n",
              "    .dataframe tbody tr th:only-of-type {\n",
              "        vertical-align: middle;\n",
              "    }\n",
              "\n",
              "    .dataframe tbody tr th {\n",
              "        vertical-align: top;\n",
              "    }\n",
              "\n",
              "    .dataframe thead th {\n",
              "        text-align: right;\n",
              "    }\n",
              "</style>\n",
              "<table border=\"1\" class=\"dataframe\">\n",
              "  <thead>\n",
              "    <tr style=\"text-align: right;\">\n",
              "      <th></th>\n",
              "      <th>id</th>\n",
              "      <th>title</th>\n",
              "      <th>overview</th>\n",
              "      <th>release_date</th>\n",
              "      <th>popularity</th>\n",
              "      <th>vote_average</th>\n",
              "      <th>vote_count</th>\n",
              "    </tr>\n",
              "  </thead>\n",
              "  <tbody>\n",
              "    <tr>\n",
              "      <th>0</th>\n",
              "      <td>238</td>\n",
              "      <td>The Godfather</td>\n",
              "      <td>Spanning the years 1945 to 1955, a chronicle o...</td>\n",
              "      <td>1972-03-14</td>\n",
              "      <td>129.885</td>\n",
              "      <td>8.7</td>\n",
              "      <td>17637</td>\n",
              "    </tr>\n",
              "    <tr>\n",
              "      <th>1</th>\n",
              "      <td>278</td>\n",
              "      <td>The Shawshank Redemption</td>\n",
              "      <td>Framed in the 1940s for the double murder of h...</td>\n",
              "      <td>1994-09-23</td>\n",
              "      <td>92.438</td>\n",
              "      <td>8.7</td>\n",
              "      <td>23477</td>\n",
              "    </tr>\n",
              "    <tr>\n",
              "      <th>2</th>\n",
              "      <td>772071</td>\n",
              "      <td>Cuando Sea Joven</td>\n",
              "      <td>70-year-old Malena gets a second chance at lif...</td>\n",
              "      <td>2022-09-14</td>\n",
              "      <td>37.959</td>\n",
              "      <td>8.6</td>\n",
              "      <td>212</td>\n",
              "    </tr>\n",
              "    <tr>\n",
              "      <th>3</th>\n",
              "      <td>240</td>\n",
              "      <td>The Godfather Part II</td>\n",
              "      <td>In the continuing saga of the Corleone crime f...</td>\n",
              "      <td>1974-12-20</td>\n",
              "      <td>80.308</td>\n",
              "      <td>8.6</td>\n",
              "      <td>10688</td>\n",
              "    </tr>\n",
              "    <tr>\n",
              "      <th>4</th>\n",
              "      <td>424</td>\n",
              "      <td>Schindler's List</td>\n",
              "      <td>The true story of how businessman Oskar Schind...</td>\n",
              "      <td>1993-12-15</td>\n",
              "      <td>50.098</td>\n",
              "      <td>8.6</td>\n",
              "      <td>13885</td>\n",
              "    </tr>\n",
              "  </tbody>\n",
              "</table>\n",
              "</div>\n",
              "    <div class=\"colab-df-buttons\">\n",
              "\n",
              "  <div class=\"colab-df-container\">\n",
              "    <button class=\"colab-df-convert\" onclick=\"convertToInteractive('df-33df892e-86f0-48f6-9db3-e97599629acf')\"\n",
              "            title=\"Convert this dataframe to an interactive table.\"\n",
              "            style=\"display:none;\">\n",
              "\n",
              "  <svg xmlns=\"http://www.w3.org/2000/svg\" height=\"24px\" viewBox=\"0 -960 960 960\">\n",
              "    <path d=\"M120-120v-720h720v720H120Zm60-500h600v-160H180v160Zm220 220h160v-160H400v160Zm0 220h160v-160H400v160ZM180-400h160v-160H180v160Zm440 0h160v-160H620v160ZM180-180h160v-160H180v160Zm440 0h160v-160H620v160Z\"/>\n",
              "  </svg>\n",
              "    </button>\n",
              "\n",
              "  <style>\n",
              "    .colab-df-container {\n",
              "      display:flex;\n",
              "      gap: 12px;\n",
              "    }\n",
              "\n",
              "    .colab-df-convert {\n",
              "      background-color: #E8F0FE;\n",
              "      border: none;\n",
              "      border-radius: 50%;\n",
              "      cursor: pointer;\n",
              "      display: none;\n",
              "      fill: #1967D2;\n",
              "      height: 32px;\n",
              "      padding: 0 0 0 0;\n",
              "      width: 32px;\n",
              "    }\n",
              "\n",
              "    .colab-df-convert:hover {\n",
              "      background-color: #E2EBFA;\n",
              "      box-shadow: 0px 1px 2px rgba(60, 64, 67, 0.3), 0px 1px 3px 1px rgba(60, 64, 67, 0.15);\n",
              "      fill: #174EA6;\n",
              "    }\n",
              "\n",
              "    .colab-df-buttons div {\n",
              "      margin-bottom: 4px;\n",
              "    }\n",
              "\n",
              "    [theme=dark] .colab-df-convert {\n",
              "      background-color: #3B4455;\n",
              "      fill: #D2E3FC;\n",
              "    }\n",
              "\n",
              "    [theme=dark] .colab-df-convert:hover {\n",
              "      background-color: #434B5C;\n",
              "      box-shadow: 0px 1px 3px 1px rgba(0, 0, 0, 0.15);\n",
              "      filter: drop-shadow(0px 1px 2px rgba(0, 0, 0, 0.3));\n",
              "      fill: #FFFFFF;\n",
              "    }\n",
              "  </style>\n",
              "\n",
              "    <script>\n",
              "      const buttonEl =\n",
              "        document.querySelector('#df-33df892e-86f0-48f6-9db3-e97599629acf button.colab-df-convert');\n",
              "      buttonEl.style.display =\n",
              "        google.colab.kernel.accessAllowed ? 'block' : 'none';\n",
              "\n",
              "      async function convertToInteractive(key) {\n",
              "        const element = document.querySelector('#df-33df892e-86f0-48f6-9db3-e97599629acf');\n",
              "        const dataTable =\n",
              "          await google.colab.kernel.invokeFunction('convertToInteractive',\n",
              "                                                    [key], {});\n",
              "        if (!dataTable) return;\n",
              "\n",
              "        const docLinkHtml = 'Like what you see? Visit the ' +\n",
              "          '<a target=\"_blank\" href=https://colab.research.google.com/notebooks/data_table.ipynb>data table notebook</a>'\n",
              "          + ' to learn more about interactive tables.';\n",
              "        element.innerHTML = '';\n",
              "        dataTable['output_type'] = 'display_data';\n",
              "        await google.colab.output.renderOutput(dataTable, element);\n",
              "        const docLink = document.createElement('div');\n",
              "        docLink.innerHTML = docLinkHtml;\n",
              "        element.appendChild(docLink);\n",
              "      }\n",
              "    </script>\n",
              "  </div>\n",
              "\n",
              "\n",
              "    <div id=\"df-e9f6fac5-80d4-4c23-a858-a843bc70696e\">\n",
              "      <button class=\"colab-df-quickchart\" onclick=\"quickchart('df-e9f6fac5-80d4-4c23-a858-a843bc70696e')\"\n",
              "                title=\"Suggest charts\"\n",
              "                style=\"display:none;\">\n",
              "\n",
              "<svg xmlns=\"http://www.w3.org/2000/svg\" height=\"24px\"viewBox=\"0 0 24 24\"\n",
              "     width=\"24px\">\n",
              "    <g>\n",
              "        <path d=\"M19 3H5c-1.1 0-2 .9-2 2v14c0 1.1.9 2 2 2h14c1.1 0 2-.9 2-2V5c0-1.1-.9-2-2-2zM9 17H7v-7h2v7zm4 0h-2V7h2v10zm4 0h-2v-4h2v4z\"/>\n",
              "    </g>\n",
              "</svg>\n",
              "      </button>\n",
              "\n",
              "<style>\n",
              "  .colab-df-quickchart {\n",
              "      --bg-color: #E8F0FE;\n",
              "      --fill-color: #1967D2;\n",
              "      --hover-bg-color: #E2EBFA;\n",
              "      --hover-fill-color: #174EA6;\n",
              "      --disabled-fill-color: #AAA;\n",
              "      --disabled-bg-color: #DDD;\n",
              "  }\n",
              "\n",
              "  [theme=dark] .colab-df-quickchart {\n",
              "      --bg-color: #3B4455;\n",
              "      --fill-color: #D2E3FC;\n",
              "      --hover-bg-color: #434B5C;\n",
              "      --hover-fill-color: #FFFFFF;\n",
              "      --disabled-bg-color: #3B4455;\n",
              "      --disabled-fill-color: #666;\n",
              "  }\n",
              "\n",
              "  .colab-df-quickchart {\n",
              "    background-color: var(--bg-color);\n",
              "    border: none;\n",
              "    border-radius: 50%;\n",
              "    cursor: pointer;\n",
              "    display: none;\n",
              "    fill: var(--fill-color);\n",
              "    height: 32px;\n",
              "    padding: 0;\n",
              "    width: 32px;\n",
              "  }\n",
              "\n",
              "  .colab-df-quickchart:hover {\n",
              "    background-color: var(--hover-bg-color);\n",
              "    box-shadow: 0 1px 2px rgba(60, 64, 67, 0.3), 0 1px 3px 1px rgba(60, 64, 67, 0.15);\n",
              "    fill: var(--button-hover-fill-color);\n",
              "  }\n",
              "\n",
              "  .colab-df-quickchart-complete:disabled,\n",
              "  .colab-df-quickchart-complete:disabled:hover {\n",
              "    background-color: var(--disabled-bg-color);\n",
              "    fill: var(--disabled-fill-color);\n",
              "    box-shadow: none;\n",
              "  }\n",
              "\n",
              "  .colab-df-spinner {\n",
              "    border: 2px solid var(--fill-color);\n",
              "    border-color: transparent;\n",
              "    border-bottom-color: var(--fill-color);\n",
              "    animation:\n",
              "      spin 1s steps(1) infinite;\n",
              "  }\n",
              "\n",
              "  @keyframes spin {\n",
              "    0% {\n",
              "      border-color: transparent;\n",
              "      border-bottom-color: var(--fill-color);\n",
              "      border-left-color: var(--fill-color);\n",
              "    }\n",
              "    20% {\n",
              "      border-color: transparent;\n",
              "      border-left-color: var(--fill-color);\n",
              "      border-top-color: var(--fill-color);\n",
              "    }\n",
              "    30% {\n",
              "      border-color: transparent;\n",
              "      border-left-color: var(--fill-color);\n",
              "      border-top-color: var(--fill-color);\n",
              "      border-right-color: var(--fill-color);\n",
              "    }\n",
              "    40% {\n",
              "      border-color: transparent;\n",
              "      border-right-color: var(--fill-color);\n",
              "      border-top-color: var(--fill-color);\n",
              "    }\n",
              "    60% {\n",
              "      border-color: transparent;\n",
              "      border-right-color: var(--fill-color);\n",
              "    }\n",
              "    80% {\n",
              "      border-color: transparent;\n",
              "      border-right-color: var(--fill-color);\n",
              "      border-bottom-color: var(--fill-color);\n",
              "    }\n",
              "    90% {\n",
              "      border-color: transparent;\n",
              "      border-bottom-color: var(--fill-color);\n",
              "    }\n",
              "  }\n",
              "</style>\n",
              "\n",
              "      <script>\n",
              "        async function quickchart(key) {\n",
              "          const quickchartButtonEl =\n",
              "            document.querySelector('#' + key + ' button');\n",
              "          quickchartButtonEl.disabled = true;  // To prevent multiple clicks.\n",
              "          quickchartButtonEl.classList.add('colab-df-spinner');\n",
              "          try {\n",
              "            const charts = await google.colab.kernel.invokeFunction(\n",
              "                'suggestCharts', [key], {});\n",
              "          } catch (error) {\n",
              "            console.error('Error during call to suggestCharts:', error);\n",
              "          }\n",
              "          quickchartButtonEl.classList.remove('colab-df-spinner');\n",
              "          quickchartButtonEl.classList.add('colab-df-quickchart-complete');\n",
              "        }\n",
              "        (() => {\n",
              "          let quickchartButtonEl =\n",
              "            document.querySelector('#df-e9f6fac5-80d4-4c23-a858-a843bc70696e button');\n",
              "          quickchartButtonEl.style.display =\n",
              "            google.colab.kernel.accessAllowed ? 'block' : 'none';\n",
              "        })();\n",
              "      </script>\n",
              "    </div>\n",
              "\n",
              "    </div>\n",
              "  </div>\n"
            ],
            "application/vnd.google.colaboratory.intrinsic+json": {
              "type": "dataframe",
              "variable_name": "df",
              "summary": "{\n  \"name\": \"df\",\n  \"rows\": 8560,\n  \"fields\": [\n    {\n      \"column\": \"id\",\n      \"properties\": {\n        \"dtype\": \"number\",\n        \"std\": 233874,\n        \"min\": 2,\n        \"max\": 1077280,\n        \"num_unique_values\": 8560,\n        \"samples\": [\n          9077,\n          390734,\n          37735\n        ],\n        \"semantic_type\": \"\",\n        \"description\": \"\"\n      }\n    },\n    {\n      \"column\": \"title\",\n      \"properties\": {\n        \"dtype\": \"string\",\n        \"num_unique_values\": 8316,\n        \"samples\": [\n          \"Goosebumps 2: Haunted Halloween\",\n          \"Onward\",\n          \"Palo Alto\"\n        ],\n        \"semantic_type\": \"\",\n        \"description\": \"\"\n      }\n    },\n    {\n      \"column\": \"overview\",\n      \"properties\": {\n        \"dtype\": \"string\",\n        \"num_unique_values\": 8557,\n        \"samples\": [\n          \"The Words follows young writer Rory Jansen who finally achieves long sought after literary success after publishing the next great American novel. There's only one catch - he didn't write it. As the past comes back to haunt him and his literary star continues to rise, Jansen is forced to confront the steep price that must be paid for stealing another man's work, and for placing ambition and success above life's most fundamental three words.\",\n          \"A mother and her two teenage sons move to a seemingly nice and quiet small coastal California town yet soon find out that it's overrun by bike gangs and vampires. A couple of teenage friends take it upon themselves to hunt down the vampires that they suspect of a few mysterious murders and restore peace and calm to their town.\",\n          \"The extraordinary true story of eccentric British artist Louis Wain, whose playful, sometimes even psychedelic pictures helped to transform the public's perception of cats forever.\"\n        ],\n        \"semantic_type\": \"\",\n        \"description\": \"\"\n      }\n    },\n    {\n      \"column\": \"release_date\",\n      \"properties\": {\n        \"dtype\": \"object\",\n        \"num_unique_values\": 5711,\n        \"samples\": [\n          \"1947-06-04\",\n          \"2005-02-13\",\n          \"2021-10-28\"\n        ],\n        \"semantic_type\": \"\",\n        \"description\": \"\"\n      }\n    },\n    {\n      \"column\": \"popularity\",\n      \"properties\": {\n        \"dtype\": \"number\",\n        \"std\": 66.1204849419728,\n        \"min\": 0.6,\n        \"max\": 3813.468,\n        \"num_unique_values\": 7403,\n        \"samples\": [\n          18.59,\n          19.066,\n          22.408\n        ],\n        \"semantic_type\": \"\",\n        \"description\": \"\"\n      }\n    },\n    {\n      \"column\": \"vote_average\",\n      \"properties\": {\n        \"dtype\": \"number\",\n        \"std\": 0.5769387445489105,\n        \"min\": 6.0,\n        \"max\": 8.7,\n        \"num_unique_values\": 28,\n        \"samples\": [\n          7.8,\n          6.2,\n          7.9\n        ],\n        \"semantic_type\": \"\",\n        \"description\": \"\"\n      }\n    },\n    {\n      \"column\": \"vote_count\",\n      \"properties\": {\n        \"dtype\": \"number\",\n        \"std\": 2963,\n        \"min\": 200,\n        \"max\": 33391,\n        \"num_unique_values\": 3121,\n        \"samples\": [\n          20059,\n          2967,\n          6091\n        ],\n        \"semantic_type\": \"\",\n        \"description\": \"\"\n      }\n    }\n  ]\n}"
            }
          },
          "metadata": {},
          "execution_count": 5
        }
      ],
      "execution_count": 5
    },
    {
      "cell_type": "code",
      "source": [
        "df['overview'][3].lower()"
      ],
      "metadata": {
        "execution": {
          "iopub.status.busy": "2021-12-08T10:21:00.749847Z",
          "iopub.execute_input": "2021-12-08T10:21:00.750114Z",
          "iopub.status.idle": "2021-12-08T10:21:00.758994Z",
          "shell.execute_reply.started": "2021-12-08T10:21:00.750086Z",
          "shell.execute_reply": "2021-12-08T10:21:00.758482Z"
        },
        "trusted": true,
        "colab": {
          "base_uri": "https://localhost:8080/",
          "height": 53
        },
        "id": "7EiILg7wNoLh",
        "outputId": "f3c7070f-7fa0-48d7-f1ba-a2a22fb33cfb"
      },
      "outputs": [
        {
          "output_type": "execute_result",
          "data": {
            "text/plain": [
              "'in the continuing saga of the corleone crime family, a young vito corleone grows up in sicily and in 1910s new york. in the 1950s, michael corleone attempts to expand the family business into las vegas, hollywood and cuba.'"
            ],
            "application/vnd.google.colaboratory.intrinsic+json": {
              "type": "string"
            }
          },
          "metadata": {},
          "execution_count": 6
        }
      ],
      "execution_count": 6
    },
    {
      "cell_type": "code",
      "source": [
        "df['overview'] = df['overview'].str.lower()"
      ],
      "metadata": {
        "execution": {
          "iopub.status.busy": "2021-12-08T10:22:00.387082Z",
          "iopub.execute_input": "2021-12-08T10:22:00.387349Z",
          "iopub.status.idle": "2021-12-08T10:22:00.553846Z",
          "shell.execute_reply.started": "2021-12-08T10:22:00.38732Z",
          "shell.execute_reply": "2021-12-08T10:22:00.553067Z"
        },
        "trusted": true,
        "id": "0rEUpAJdNoLh"
      },
      "outputs": [],
      "execution_count": 7
    },
    {
      "cell_type": "code",
      "source": [
        "df"
      ],
      "metadata": {
        "execution": {
          "iopub.status.busy": "2021-12-08T10:22:02.664555Z",
          "iopub.execute_input": "2021-12-08T10:22:02.664852Z",
          "iopub.status.idle": "2021-12-08T10:22:02.676716Z",
          "shell.execute_reply.started": "2021-12-08T10:22:02.664821Z",
          "shell.execute_reply": "2021-12-08T10:22:02.675918Z"
        },
        "trusted": true,
        "colab": {
          "base_uri": "https://localhost:8080/",
          "height": 423
        },
        "id": "R-Eft3yONoLi",
        "outputId": "f60fc0c2-631c-4b00-feb5-399cfdaa3559"
      },
      "outputs": [
        {
          "output_type": "execute_result",
          "data": {
            "text/plain": [
              "          id                            title  \\\n",
              "0        238                    The Godfather   \n",
              "1        278         The Shawshank Redemption   \n",
              "2     772071                 Cuando Sea Joven   \n",
              "3        240            The Godfather Part II   \n",
              "4        424                 Schindler's List   \n",
              "...      ...                              ...   \n",
              "8555   32985                     Solomon Kane   \n",
              "8556  362637                Opposites Attract   \n",
              "8557  308024                    The Overnight   \n",
              "8558  157099  Better Living Through Chemistry   \n",
              "8559  112200               Thanks for Sharing   \n",
              "\n",
              "                                               overview release_date  \\\n",
              "0     spanning the years 1945 to 1955, a chronicle o...   1972-03-14   \n",
              "1     framed in the 1940s for the double murder of h...   1994-09-23   \n",
              "2     70-year-old malena gets a second chance at lif...   2022-09-14   \n",
              "3     in the continuing saga of the corleone crime f...   1974-12-20   \n",
              "4     the true story of how businessman oskar schind...   1993-12-15   \n",
              "...                                                 ...          ...   \n",
              "8555  a nomadic 16th century warrior, condemned to h...   2009-09-16   \n",
              "8556  she's a divorce lawyer, single mother and perp...   2015-10-08   \n",
              "8557  alex, emily, and their son, rj, are new to los...   2015-06-19   \n",
              "8558  a straight-laced pharmacist's uneventful life ...   2014-03-14   \n",
              "8559  a romantic comedy that brings together three d...   2013-09-19   \n",
              "\n",
              "      popularity  vote_average  vote_count  \n",
              "0        129.885           8.7       17637  \n",
              "1         92.438           8.7       23477  \n",
              "2         37.959           8.6         212  \n",
              "3         80.308           8.6       10688  \n",
              "4         50.098           8.6       13885  \n",
              "...          ...           ...         ...  \n",
              "8555      17.299           6.0        1209  \n",
              "8556       8.618           6.0         264  \n",
              "8557      10.594           6.0         288  \n",
              "8558      10.197           6.0         236  \n",
              "8559      13.124           6.0         496  \n",
              "\n",
              "[8560 rows x 7 columns]"
            ],
            "text/html": [
              "\n",
              "  <div id=\"df-428910cd-8946-4832-a7c7-f2aa5e32d83f\" class=\"colab-df-container\">\n",
              "    <div>\n",
              "<style scoped>\n",
              "    .dataframe tbody tr th:only-of-type {\n",
              "        vertical-align: middle;\n",
              "    }\n",
              "\n",
              "    .dataframe tbody tr th {\n",
              "        vertical-align: top;\n",
              "    }\n",
              "\n",
              "    .dataframe thead th {\n",
              "        text-align: right;\n",
              "    }\n",
              "</style>\n",
              "<table border=\"1\" class=\"dataframe\">\n",
              "  <thead>\n",
              "    <tr style=\"text-align: right;\">\n",
              "      <th></th>\n",
              "      <th>id</th>\n",
              "      <th>title</th>\n",
              "      <th>overview</th>\n",
              "      <th>release_date</th>\n",
              "      <th>popularity</th>\n",
              "      <th>vote_average</th>\n",
              "      <th>vote_count</th>\n",
              "    </tr>\n",
              "  </thead>\n",
              "  <tbody>\n",
              "    <tr>\n",
              "      <th>0</th>\n",
              "      <td>238</td>\n",
              "      <td>The Godfather</td>\n",
              "      <td>spanning the years 1945 to 1955, a chronicle o...</td>\n",
              "      <td>1972-03-14</td>\n",
              "      <td>129.885</td>\n",
              "      <td>8.7</td>\n",
              "      <td>17637</td>\n",
              "    </tr>\n",
              "    <tr>\n",
              "      <th>1</th>\n",
              "      <td>278</td>\n",
              "      <td>The Shawshank Redemption</td>\n",
              "      <td>framed in the 1940s for the double murder of h...</td>\n",
              "      <td>1994-09-23</td>\n",
              "      <td>92.438</td>\n",
              "      <td>8.7</td>\n",
              "      <td>23477</td>\n",
              "    </tr>\n",
              "    <tr>\n",
              "      <th>2</th>\n",
              "      <td>772071</td>\n",
              "      <td>Cuando Sea Joven</td>\n",
              "      <td>70-year-old malena gets a second chance at lif...</td>\n",
              "      <td>2022-09-14</td>\n",
              "      <td>37.959</td>\n",
              "      <td>8.6</td>\n",
              "      <td>212</td>\n",
              "    </tr>\n",
              "    <tr>\n",
              "      <th>3</th>\n",
              "      <td>240</td>\n",
              "      <td>The Godfather Part II</td>\n",
              "      <td>in the continuing saga of the corleone crime f...</td>\n",
              "      <td>1974-12-20</td>\n",
              "      <td>80.308</td>\n",
              "      <td>8.6</td>\n",
              "      <td>10688</td>\n",
              "    </tr>\n",
              "    <tr>\n",
              "      <th>4</th>\n",
              "      <td>424</td>\n",
              "      <td>Schindler's List</td>\n",
              "      <td>the true story of how businessman oskar schind...</td>\n",
              "      <td>1993-12-15</td>\n",
              "      <td>50.098</td>\n",
              "      <td>8.6</td>\n",
              "      <td>13885</td>\n",
              "    </tr>\n",
              "    <tr>\n",
              "      <th>...</th>\n",
              "      <td>...</td>\n",
              "      <td>...</td>\n",
              "      <td>...</td>\n",
              "      <td>...</td>\n",
              "      <td>...</td>\n",
              "      <td>...</td>\n",
              "      <td>...</td>\n",
              "    </tr>\n",
              "    <tr>\n",
              "      <th>8555</th>\n",
              "      <td>32985</td>\n",
              "      <td>Solomon Kane</td>\n",
              "      <td>a nomadic 16th century warrior, condemned to h...</td>\n",
              "      <td>2009-09-16</td>\n",
              "      <td>17.299</td>\n",
              "      <td>6.0</td>\n",
              "      <td>1209</td>\n",
              "    </tr>\n",
              "    <tr>\n",
              "      <th>8556</th>\n",
              "      <td>362637</td>\n",
              "      <td>Opposites Attract</td>\n",
              "      <td>she's a divorce lawyer, single mother and perp...</td>\n",
              "      <td>2015-10-08</td>\n",
              "      <td>8.618</td>\n",
              "      <td>6.0</td>\n",
              "      <td>264</td>\n",
              "    </tr>\n",
              "    <tr>\n",
              "      <th>8557</th>\n",
              "      <td>308024</td>\n",
              "      <td>The Overnight</td>\n",
              "      <td>alex, emily, and their son, rj, are new to los...</td>\n",
              "      <td>2015-06-19</td>\n",
              "      <td>10.594</td>\n",
              "      <td>6.0</td>\n",
              "      <td>288</td>\n",
              "    </tr>\n",
              "    <tr>\n",
              "      <th>8558</th>\n",
              "      <td>157099</td>\n",
              "      <td>Better Living Through Chemistry</td>\n",
              "      <td>a straight-laced pharmacist's uneventful life ...</td>\n",
              "      <td>2014-03-14</td>\n",
              "      <td>10.197</td>\n",
              "      <td>6.0</td>\n",
              "      <td>236</td>\n",
              "    </tr>\n",
              "    <tr>\n",
              "      <th>8559</th>\n",
              "      <td>112200</td>\n",
              "      <td>Thanks for Sharing</td>\n",
              "      <td>a romantic comedy that brings together three d...</td>\n",
              "      <td>2013-09-19</td>\n",
              "      <td>13.124</td>\n",
              "      <td>6.0</td>\n",
              "      <td>496</td>\n",
              "    </tr>\n",
              "  </tbody>\n",
              "</table>\n",
              "<p>8560 rows × 7 columns</p>\n",
              "</div>\n",
              "    <div class=\"colab-df-buttons\">\n",
              "\n",
              "  <div class=\"colab-df-container\">\n",
              "    <button class=\"colab-df-convert\" onclick=\"convertToInteractive('df-428910cd-8946-4832-a7c7-f2aa5e32d83f')\"\n",
              "            title=\"Convert this dataframe to an interactive table.\"\n",
              "            style=\"display:none;\">\n",
              "\n",
              "  <svg xmlns=\"http://www.w3.org/2000/svg\" height=\"24px\" viewBox=\"0 -960 960 960\">\n",
              "    <path d=\"M120-120v-720h720v720H120Zm60-500h600v-160H180v160Zm220 220h160v-160H400v160Zm0 220h160v-160H400v160ZM180-400h160v-160H180v160Zm440 0h160v-160H620v160ZM180-180h160v-160H180v160Zm440 0h160v-160H620v160Z\"/>\n",
              "  </svg>\n",
              "    </button>\n",
              "\n",
              "  <style>\n",
              "    .colab-df-container {\n",
              "      display:flex;\n",
              "      gap: 12px;\n",
              "    }\n",
              "\n",
              "    .colab-df-convert {\n",
              "      background-color: #E8F0FE;\n",
              "      border: none;\n",
              "      border-radius: 50%;\n",
              "      cursor: pointer;\n",
              "      display: none;\n",
              "      fill: #1967D2;\n",
              "      height: 32px;\n",
              "      padding: 0 0 0 0;\n",
              "      width: 32px;\n",
              "    }\n",
              "\n",
              "    .colab-df-convert:hover {\n",
              "      background-color: #E2EBFA;\n",
              "      box-shadow: 0px 1px 2px rgba(60, 64, 67, 0.3), 0px 1px 3px 1px rgba(60, 64, 67, 0.15);\n",
              "      fill: #174EA6;\n",
              "    }\n",
              "\n",
              "    .colab-df-buttons div {\n",
              "      margin-bottom: 4px;\n",
              "    }\n",
              "\n",
              "    [theme=dark] .colab-df-convert {\n",
              "      background-color: #3B4455;\n",
              "      fill: #D2E3FC;\n",
              "    }\n",
              "\n",
              "    [theme=dark] .colab-df-convert:hover {\n",
              "      background-color: #434B5C;\n",
              "      box-shadow: 0px 1px 3px 1px rgba(0, 0, 0, 0.15);\n",
              "      filter: drop-shadow(0px 1px 2px rgba(0, 0, 0, 0.3));\n",
              "      fill: #FFFFFF;\n",
              "    }\n",
              "  </style>\n",
              "\n",
              "    <script>\n",
              "      const buttonEl =\n",
              "        document.querySelector('#df-428910cd-8946-4832-a7c7-f2aa5e32d83f button.colab-df-convert');\n",
              "      buttonEl.style.display =\n",
              "        google.colab.kernel.accessAllowed ? 'block' : 'none';\n",
              "\n",
              "      async function convertToInteractive(key) {\n",
              "        const element = document.querySelector('#df-428910cd-8946-4832-a7c7-f2aa5e32d83f');\n",
              "        const dataTable =\n",
              "          await google.colab.kernel.invokeFunction('convertToInteractive',\n",
              "                                                    [key], {});\n",
              "        if (!dataTable) return;\n",
              "\n",
              "        const docLinkHtml = 'Like what you see? Visit the ' +\n",
              "          '<a target=\"_blank\" href=https://colab.research.google.com/notebooks/data_table.ipynb>data table notebook</a>'\n",
              "          + ' to learn more about interactive tables.';\n",
              "        element.innerHTML = '';\n",
              "        dataTable['output_type'] = 'display_data';\n",
              "        await google.colab.output.renderOutput(dataTable, element);\n",
              "        const docLink = document.createElement('div');\n",
              "        docLink.innerHTML = docLinkHtml;\n",
              "        element.appendChild(docLink);\n",
              "      }\n",
              "    </script>\n",
              "  </div>\n",
              "\n",
              "\n",
              "    <div id=\"df-d49d7254-b47a-4226-8457-2a7dd476e8dd\">\n",
              "      <button class=\"colab-df-quickchart\" onclick=\"quickchart('df-d49d7254-b47a-4226-8457-2a7dd476e8dd')\"\n",
              "                title=\"Suggest charts\"\n",
              "                style=\"display:none;\">\n",
              "\n",
              "<svg xmlns=\"http://www.w3.org/2000/svg\" height=\"24px\"viewBox=\"0 0 24 24\"\n",
              "     width=\"24px\">\n",
              "    <g>\n",
              "        <path d=\"M19 3H5c-1.1 0-2 .9-2 2v14c0 1.1.9 2 2 2h14c1.1 0 2-.9 2-2V5c0-1.1-.9-2-2-2zM9 17H7v-7h2v7zm4 0h-2V7h2v10zm4 0h-2v-4h2v4z\"/>\n",
              "    </g>\n",
              "</svg>\n",
              "      </button>\n",
              "\n",
              "<style>\n",
              "  .colab-df-quickchart {\n",
              "      --bg-color: #E8F0FE;\n",
              "      --fill-color: #1967D2;\n",
              "      --hover-bg-color: #E2EBFA;\n",
              "      --hover-fill-color: #174EA6;\n",
              "      --disabled-fill-color: #AAA;\n",
              "      --disabled-bg-color: #DDD;\n",
              "  }\n",
              "\n",
              "  [theme=dark] .colab-df-quickchart {\n",
              "      --bg-color: #3B4455;\n",
              "      --fill-color: #D2E3FC;\n",
              "      --hover-bg-color: #434B5C;\n",
              "      --hover-fill-color: #FFFFFF;\n",
              "      --disabled-bg-color: #3B4455;\n",
              "      --disabled-fill-color: #666;\n",
              "  }\n",
              "\n",
              "  .colab-df-quickchart {\n",
              "    background-color: var(--bg-color);\n",
              "    border: none;\n",
              "    border-radius: 50%;\n",
              "    cursor: pointer;\n",
              "    display: none;\n",
              "    fill: var(--fill-color);\n",
              "    height: 32px;\n",
              "    padding: 0;\n",
              "    width: 32px;\n",
              "  }\n",
              "\n",
              "  .colab-df-quickchart:hover {\n",
              "    background-color: var(--hover-bg-color);\n",
              "    box-shadow: 0 1px 2px rgba(60, 64, 67, 0.3), 0 1px 3px 1px rgba(60, 64, 67, 0.15);\n",
              "    fill: var(--button-hover-fill-color);\n",
              "  }\n",
              "\n",
              "  .colab-df-quickchart-complete:disabled,\n",
              "  .colab-df-quickchart-complete:disabled:hover {\n",
              "    background-color: var(--disabled-bg-color);\n",
              "    fill: var(--disabled-fill-color);\n",
              "    box-shadow: none;\n",
              "  }\n",
              "\n",
              "  .colab-df-spinner {\n",
              "    border: 2px solid var(--fill-color);\n",
              "    border-color: transparent;\n",
              "    border-bottom-color: var(--fill-color);\n",
              "    animation:\n",
              "      spin 1s steps(1) infinite;\n",
              "  }\n",
              "\n",
              "  @keyframes spin {\n",
              "    0% {\n",
              "      border-color: transparent;\n",
              "      border-bottom-color: var(--fill-color);\n",
              "      border-left-color: var(--fill-color);\n",
              "    }\n",
              "    20% {\n",
              "      border-color: transparent;\n",
              "      border-left-color: var(--fill-color);\n",
              "      border-top-color: var(--fill-color);\n",
              "    }\n",
              "    30% {\n",
              "      border-color: transparent;\n",
              "      border-left-color: var(--fill-color);\n",
              "      border-top-color: var(--fill-color);\n",
              "      border-right-color: var(--fill-color);\n",
              "    }\n",
              "    40% {\n",
              "      border-color: transparent;\n",
              "      border-right-color: var(--fill-color);\n",
              "      border-top-color: var(--fill-color);\n",
              "    }\n",
              "    60% {\n",
              "      border-color: transparent;\n",
              "      border-right-color: var(--fill-color);\n",
              "    }\n",
              "    80% {\n",
              "      border-color: transparent;\n",
              "      border-right-color: var(--fill-color);\n",
              "      border-bottom-color: var(--fill-color);\n",
              "    }\n",
              "    90% {\n",
              "      border-color: transparent;\n",
              "      border-bottom-color: var(--fill-color);\n",
              "    }\n",
              "  }\n",
              "</style>\n",
              "\n",
              "      <script>\n",
              "        async function quickchart(key) {\n",
              "          const quickchartButtonEl =\n",
              "            document.querySelector('#' + key + ' button');\n",
              "          quickchartButtonEl.disabled = true;  // To prevent multiple clicks.\n",
              "          quickchartButtonEl.classList.add('colab-df-spinner');\n",
              "          try {\n",
              "            const charts = await google.colab.kernel.invokeFunction(\n",
              "                'suggestCharts', [key], {});\n",
              "          } catch (error) {\n",
              "            console.error('Error during call to suggestCharts:', error);\n",
              "          }\n",
              "          quickchartButtonEl.classList.remove('colab-df-spinner');\n",
              "          quickchartButtonEl.classList.add('colab-df-quickchart-complete');\n",
              "        }\n",
              "        (() => {\n",
              "          let quickchartButtonEl =\n",
              "            document.querySelector('#df-d49d7254-b47a-4226-8457-2a7dd476e8dd button');\n",
              "          quickchartButtonEl.style.display =\n",
              "            google.colab.kernel.accessAllowed ? 'block' : 'none';\n",
              "        })();\n",
              "      </script>\n",
              "    </div>\n",
              "\n",
              "  <div id=\"id_bc0a001a-7fba-4dda-a048-2f76100109c6\">\n",
              "    <style>\n",
              "      .colab-df-generate {\n",
              "        background-color: #E8F0FE;\n",
              "        border: none;\n",
              "        border-radius: 50%;\n",
              "        cursor: pointer;\n",
              "        display: none;\n",
              "        fill: #1967D2;\n",
              "        height: 32px;\n",
              "        padding: 0 0 0 0;\n",
              "        width: 32px;\n",
              "      }\n",
              "\n",
              "      .colab-df-generate:hover {\n",
              "        background-color: #E2EBFA;\n",
              "        box-shadow: 0px 1px 2px rgba(60, 64, 67, 0.3), 0px 1px 3px 1px rgba(60, 64, 67, 0.15);\n",
              "        fill: #174EA6;\n",
              "      }\n",
              "\n",
              "      [theme=dark] .colab-df-generate {\n",
              "        background-color: #3B4455;\n",
              "        fill: #D2E3FC;\n",
              "      }\n",
              "\n",
              "      [theme=dark] .colab-df-generate:hover {\n",
              "        background-color: #434B5C;\n",
              "        box-shadow: 0px 1px 3px 1px rgba(0, 0, 0, 0.15);\n",
              "        filter: drop-shadow(0px 1px 2px rgba(0, 0, 0, 0.3));\n",
              "        fill: #FFFFFF;\n",
              "      }\n",
              "    </style>\n",
              "    <button class=\"colab-df-generate\" onclick=\"generateWithVariable('df')\"\n",
              "            title=\"Generate code using this dataframe.\"\n",
              "            style=\"display:none;\">\n",
              "\n",
              "  <svg xmlns=\"http://www.w3.org/2000/svg\" height=\"24px\"viewBox=\"0 0 24 24\"\n",
              "       width=\"24px\">\n",
              "    <path d=\"M7,19H8.4L18.45,9,17,7.55,7,17.6ZM5,21V16.75L18.45,3.32a2,2,0,0,1,2.83,0l1.4,1.43a1.91,1.91,0,0,1,.58,1.4,1.91,1.91,0,0,1-.58,1.4L9.25,21ZM18.45,9,17,7.55Zm-12,3A5.31,5.31,0,0,0,4.9,8.1,5.31,5.31,0,0,0,1,6.5,5.31,5.31,0,0,0,4.9,4.9,5.31,5.31,0,0,0,6.5,1,5.31,5.31,0,0,0,8.1,4.9,5.31,5.31,0,0,0,12,6.5,5.46,5.46,0,0,0,6.5,12Z\"/>\n",
              "  </svg>\n",
              "    </button>\n",
              "    <script>\n",
              "      (() => {\n",
              "      const buttonEl =\n",
              "        document.querySelector('#id_bc0a001a-7fba-4dda-a048-2f76100109c6 button.colab-df-generate');\n",
              "      buttonEl.style.display =\n",
              "        google.colab.kernel.accessAllowed ? 'block' : 'none';\n",
              "\n",
              "      buttonEl.onclick = () => {\n",
              "        google.colab.notebook.generateWithVariable('df');\n",
              "      }\n",
              "      })();\n",
              "    </script>\n",
              "  </div>\n",
              "\n",
              "    </div>\n",
              "  </div>\n"
            ],
            "application/vnd.google.colaboratory.intrinsic+json": {
              "type": "dataframe",
              "variable_name": "df",
              "summary": "{\n  \"name\": \"df\",\n  \"rows\": 8560,\n  \"fields\": [\n    {\n      \"column\": \"id\",\n      \"properties\": {\n        \"dtype\": \"number\",\n        \"std\": 233874,\n        \"min\": 2,\n        \"max\": 1077280,\n        \"num_unique_values\": 8560,\n        \"samples\": [\n          9077,\n          390734,\n          37735\n        ],\n        \"semantic_type\": \"\",\n        \"description\": \"\"\n      }\n    },\n    {\n      \"column\": \"title\",\n      \"properties\": {\n        \"dtype\": \"string\",\n        \"num_unique_values\": 8316,\n        \"samples\": [\n          \"Goosebumps 2: Haunted Halloween\",\n          \"Onward\",\n          \"Palo Alto\"\n        ],\n        \"semantic_type\": \"\",\n        \"description\": \"\"\n      }\n    },\n    {\n      \"column\": \"overview\",\n      \"properties\": {\n        \"dtype\": \"string\",\n        \"num_unique_values\": 8557,\n        \"samples\": [\n          \"the words follows young writer rory jansen who finally achieves long sought after literary success after publishing the next great american novel. there's only one catch - he didn't write it. as the past comes back to haunt him and his literary star continues to rise, jansen is forced to confront the steep price that must be paid for stealing another man's work, and for placing ambition and success above life's most fundamental three words.\",\n          \"a mother and her two teenage sons move to a seemingly nice and quiet small coastal california town yet soon find out that it's overrun by bike gangs and vampires. a couple of teenage friends take it upon themselves to hunt down the vampires that they suspect of a few mysterious murders and restore peace and calm to their town.\",\n          \"the extraordinary true story of eccentric british artist louis wain, whose playful, sometimes even psychedelic pictures helped to transform the public's perception of cats forever.\"\n        ],\n        \"semantic_type\": \"\",\n        \"description\": \"\"\n      }\n    },\n    {\n      \"column\": \"release_date\",\n      \"properties\": {\n        \"dtype\": \"object\",\n        \"num_unique_values\": 5711,\n        \"samples\": [\n          \"1947-06-04\",\n          \"2005-02-13\",\n          \"2021-10-28\"\n        ],\n        \"semantic_type\": \"\",\n        \"description\": \"\"\n      }\n    },\n    {\n      \"column\": \"popularity\",\n      \"properties\": {\n        \"dtype\": \"number\",\n        \"std\": 66.1204849419728,\n        \"min\": 0.6,\n        \"max\": 3813.468,\n        \"num_unique_values\": 7403,\n        \"samples\": [\n          18.59,\n          19.066,\n          22.408\n        ],\n        \"semantic_type\": \"\",\n        \"description\": \"\"\n      }\n    },\n    {\n      \"column\": \"vote_average\",\n      \"properties\": {\n        \"dtype\": \"number\",\n        \"std\": 0.5769387445489105,\n        \"min\": 6.0,\n        \"max\": 8.7,\n        \"num_unique_values\": 28,\n        \"samples\": [\n          7.8,\n          6.2,\n          7.9\n        ],\n        \"semantic_type\": \"\",\n        \"description\": \"\"\n      }\n    },\n    {\n      \"column\": \"vote_count\",\n      \"properties\": {\n        \"dtype\": \"number\",\n        \"std\": 2963,\n        \"min\": 200,\n        \"max\": 33391,\n        \"num_unique_values\": 3121,\n        \"samples\": [\n          20059,\n          2967,\n          6091\n        ],\n        \"semantic_type\": \"\",\n        \"description\": \"\"\n      }\n    }\n  ]\n}"
            }
          },
          "metadata": {},
          "execution_count": 8
        }
      ],
      "execution_count": 8
    },
    {
      "cell_type": "code",
      "source": [
        "import re\n",
        "def remove_html_tags(text):\n",
        "    pattern = re.compile('<.*?>')\n",
        "    return pattern.sub(r'', text)"
      ],
      "metadata": {
        "execution": {
          "iopub.status.busy": "2021-12-08T10:37:17.259698Z",
          "iopub.execute_input": "2021-12-08T10:37:17.260075Z",
          "iopub.status.idle": "2021-12-08T10:37:17.265673Z",
          "shell.execute_reply.started": "2021-12-08T10:37:17.260041Z",
          "shell.execute_reply": "2021-12-08T10:37:17.264763Z"
        },
        "trusted": true,
        "id": "Vyd51MF8NoLi"
      },
      "outputs": [],
      "execution_count": 9
    },
    {
      "cell_type": "code",
      "source": [
        "text = \"<html><body><p> Movie 1</p><p> Actor - Aamir Khan</p><p> Click here to <a href='http://google.com'>download</a></p></body></html>\""
      ],
      "metadata": {
        "execution": {
          "iopub.status.busy": "2021-12-08T10:37:39.779507Z",
          "iopub.execute_input": "2021-12-08T10:37:39.77982Z",
          "iopub.status.idle": "2021-12-08T10:37:39.784085Z",
          "shell.execute_reply.started": "2021-12-08T10:37:39.779785Z",
          "shell.execute_reply": "2021-12-08T10:37:39.783217Z"
        },
        "trusted": true,
        "id": "eXZPBDtWNoLi"
      },
      "outputs": [],
      "execution_count": 10
    },
    {
      "cell_type": "code",
      "source": [
        "remove_html_tags(text)"
      ],
      "metadata": {
        "execution": {
          "iopub.status.busy": "2021-12-08T10:37:48.202087Z",
          "iopub.execute_input": "2021-12-08T10:37:48.202652Z",
          "iopub.status.idle": "2021-12-08T10:37:48.207164Z",
          "shell.execute_reply.started": "2021-12-08T10:37:48.202617Z",
          "shell.execute_reply": "2021-12-08T10:37:48.20662Z"
        },
        "trusted": true,
        "colab": {
          "base_uri": "https://localhost:8080/",
          "height": 36
        },
        "id": "foKCnqa4NoLi",
        "outputId": "3041b197-cf35-440b-df51-273465290561"
      },
      "outputs": [
        {
          "output_type": "execute_result",
          "data": {
            "text/plain": [
              "' Movie 1 Actor - Aamir Khan Click here to download'"
            ],
            "application/vnd.google.colaboratory.intrinsic+json": {
              "type": "string"
            }
          },
          "metadata": {},
          "execution_count": 11
        }
      ],
      "execution_count": 11
    },
    {
      "cell_type": "code",
      "source": [
        "df['overview'][5]"
      ],
      "metadata": {
        "execution": {
          "iopub.status.busy": "2021-12-08T11:30:07.709923Z",
          "iopub.execute_input": "2021-12-08T11:30:07.710194Z",
          "iopub.status.idle": "2021-12-08T11:30:07.715664Z",
          "shell.execute_reply.started": "2021-12-08T11:30:07.710166Z",
          "shell.execute_reply": "2021-12-08T11:30:07.714852Z"
        },
        "trusted": true,
        "colab": {
          "base_uri": "https://localhost:8080/",
          "height": 70
        },
        "id": "oGMqEGsyNoLj",
        "outputId": "34f04a55-57d6-4993-9df4-8b192d8b8d12"
      },
      "outputs": [
        {
          "output_type": "execute_result",
          "data": {
            "text/plain": [
              "'raj is a rich, carefree, happy-go-lucky second generation nri. simran is the daughter of chaudhary baldev singh, who in spite of being an nri is very strict about adherence to indian values. simran has left for india to be married to her childhood fiancé. raj leaves for india with a mission at his hands, to claim his lady love under the noses of her whole family. thus begins a saga.'"
            ],
            "application/vnd.google.colaboratory.intrinsic+json": {
              "type": "string"
            }
          },
          "metadata": {},
          "execution_count": 12
        }
      ],
      "execution_count": 12
    },
    {
      "cell_type": "code",
      "source": [
        "def remove_url(text):\n",
        "    pattern = re.compile(r'https?://\\S+|www\\.\\S+')\n",
        "    return pattern.sub(r'', text)"
      ],
      "metadata": {
        "execution": {
          "iopub.status.busy": "2021-12-08T10:49:34.053704Z",
          "iopub.execute_input": "2021-12-08T10:49:34.054005Z",
          "iopub.status.idle": "2021-12-08T10:49:34.058386Z",
          "shell.execute_reply.started": "2021-12-08T10:49:34.053975Z",
          "shell.execute_reply": "2021-12-08T10:49:34.057762Z"
        },
        "trusted": true,
        "id": "9upeDWYrNoLj"
      },
      "outputs": [],
      "execution_count": 13
    },
    {
      "cell_type": "code",
      "source": [
        "text1 = 'Check out my notebook https://www.kaggle.com/campusx/notebook8223fc1abb'\n",
        "text2 = 'Check out my notebook http://www.kaggle.com/campusx/notebook8223fc1abb'\n",
        "text3 = 'Google search here www.google.com'\n",
        "text4 = 'For notebook click https://www.kaggle.com/campusx/notebook8223fc1abb to search check www.google.com'"
      ],
      "metadata": {
        "execution": {
          "iopub.status.busy": "2021-12-08T10:52:29.757982Z",
          "iopub.execute_input": "2021-12-08T10:52:29.758289Z",
          "iopub.status.idle": "2021-12-08T10:52:29.761928Z",
          "shell.execute_reply.started": "2021-12-08T10:52:29.758254Z",
          "shell.execute_reply": "2021-12-08T10:52:29.761454Z"
        },
        "trusted": true,
        "id": "mkoJV0hdNoLj"
      },
      "outputs": [],
      "execution_count": 14
    },
    {
      "cell_type": "code",
      "source": [
        "remove_url(text4)"
      ],
      "metadata": {
        "execution": {
          "iopub.status.busy": "2021-12-08T10:56:31.400527Z",
          "iopub.execute_input": "2021-12-08T10:56:31.400818Z",
          "iopub.status.idle": "2021-12-08T10:56:31.406438Z",
          "shell.execute_reply.started": "2021-12-08T10:56:31.400787Z",
          "shell.execute_reply": "2021-12-08T10:56:31.405521Z"
        },
        "trusted": true,
        "colab": {
          "base_uri": "https://localhost:8080/",
          "height": 36
        },
        "id": "vgLf9aGwNoLj",
        "outputId": "bdaff7bf-17ef-4fca-ccd5-8130cb60c0c9"
      },
      "outputs": [
        {
          "output_type": "execute_result",
          "data": {
            "text/plain": [
              "'For notebook click  to search check '"
            ],
            "application/vnd.google.colaboratory.intrinsic+json": {
              "type": "string"
            }
          },
          "metadata": {},
          "execution_count": 15
        }
      ],
      "execution_count": 15
    },
    {
      "cell_type": "code",
      "source": [
        "import string\n",
        "string.punctuation"
      ],
      "metadata": {
        "execution": {
          "iopub.status.busy": "2021-12-08T11:27:27.984584Z",
          "iopub.execute_input": "2021-12-08T11:27:27.985243Z",
          "iopub.status.idle": "2021-12-08T11:27:27.990753Z",
          "shell.execute_reply.started": "2021-12-08T11:27:27.985189Z",
          "shell.execute_reply": "2021-12-08T11:27:27.989969Z"
        },
        "trusted": true,
        "colab": {
          "base_uri": "https://localhost:8080/",
          "height": 36
        },
        "id": "Zcd081z_NoLj",
        "outputId": "ea88e47a-0e57-499b-e510-359c1d401424"
      },
      "outputs": [
        {
          "output_type": "execute_result",
          "data": {
            "text/plain": [
              "'!\"#$%&\\'()*+,-./:;<=>?@[\\\\]^_`{|}~'"
            ],
            "application/vnd.google.colaboratory.intrinsic+json": {
              "type": "string"
            }
          },
          "metadata": {},
          "execution_count": 16
        }
      ],
      "execution_count": 16
    },
    {
      "cell_type": "code",
      "source": [
        "exclude = string.punctuation"
      ],
      "metadata": {
        "execution": {
          "iopub.status.busy": "2021-12-08T11:12:07.074027Z",
          "iopub.execute_input": "2021-12-08T11:12:07.074296Z",
          "iopub.status.idle": "2021-12-08T11:12:07.077901Z",
          "shell.execute_reply.started": "2021-12-08T11:12:07.074267Z",
          "shell.execute_reply": "2021-12-08T11:12:07.077307Z"
        },
        "trusted": true,
        "id": "TP-bW0hENoLj"
      },
      "outputs": [],
      "execution_count": 17
    },
    {
      "cell_type": "code",
      "source": [
        "def remove_punc(text):\n",
        "    for char in exclude:\n",
        "        text = text.replace(char,'')\n",
        "    return text\n",
        ""
      ],
      "metadata": {
        "execution": {
          "iopub.status.busy": "2021-12-08T11:14:35.962877Z",
          "iopub.execute_input": "2021-12-08T11:14:35.963155Z",
          "iopub.status.idle": "2021-12-08T11:14:35.967036Z",
          "shell.execute_reply.started": "2021-12-08T11:14:35.963125Z",
          "shell.execute_reply": "2021-12-08T11:14:35.966449Z"
        },
        "trusted": true,
        "id": "nuhy5A4lNoLj"
      },
      "outputs": [],
      "execution_count": 18
    },
    {
      "cell_type": "code",
      "source": [
        "text = 'string. With. Punctuation?'"
      ],
      "metadata": {
        "execution": {
          "iopub.status.busy": "2021-12-08T11:25:11.160622Z",
          "iopub.execute_input": "2021-12-08T11:25:11.160928Z",
          "iopub.status.idle": "2021-12-08T11:25:11.16429Z",
          "shell.execute_reply.started": "2021-12-08T11:25:11.160893Z",
          "shell.execute_reply": "2021-12-08T11:25:11.163672Z"
        },
        "trusted": true,
        "id": "0IC_bdhtNoLj"
      },
      "outputs": [],
      "execution_count": 19
    },
    {
      "cell_type": "code",
      "source": [
        "\n",
        "print(remove_punc(text))"
      ],
      "metadata": {
        "execution": {
          "iopub.status.busy": "2021-12-08T11:47:24.651733Z",
          "iopub.execute_input": "2021-12-08T11:47:24.652052Z",
          "iopub.status.idle": "2021-12-08T11:47:24.658283Z",
          "shell.execute_reply.started": "2021-12-08T11:47:24.652024Z",
          "shell.execute_reply": "2021-12-08T11:47:24.65749Z"
        },
        "trusted": true,
        "colab": {
          "base_uri": "https://localhost:8080/"
        },
        "id": "XAny-nURNoLk",
        "outputId": "fc2a19c0-301e-4073-bf5b-a123c5b569d3"
      },
      "outputs": [
        {
          "output_type": "stream",
          "name": "stdout",
          "text": [
            "string With Punctuation\n"
          ]
        }
      ],
      "execution_count": 27
    },
    {
      "cell_type": "code",
      "source": [
        "def remove_punk(text):\n",
        "  pattern= re.compile(exclude)\n",
        "  return pattern.sub(r'',text)\n",
        "\n",
        "remove_punc(text)"
      ],
      "metadata": {
        "execution": {
          "iopub.status.busy": "2021-12-08T11:25:58.738276Z",
          "iopub.execute_input": "2021-12-08T11:25:58.738621Z",
          "iopub.status.idle": "2021-12-08T11:25:58.743341Z",
          "shell.execute_reply.started": "2021-12-08T11:25:58.738573Z",
          "shell.execute_reply": "2021-12-08T11:25:58.742445Z"
        },
        "trusted": true,
        "colab": {
          "base_uri": "https://localhost:8080/",
          "height": 36
        },
        "id": "IqHMBkT2NoLk",
        "outputId": "94c90ae7-0e9b-4ca0-c3da-c6f6f413cc15"
      },
      "outputs": [
        {
          "output_type": "execute_result",
          "data": {
            "text/plain": [
              "'string With Punctuation'"
            ],
            "application/vnd.google.colaboratory.intrinsic+json": {
              "type": "string"
            }
          },
          "metadata": {},
          "execution_count": 21
        }
      ],
      "execution_count": 21
    },
    {
      "cell_type": "code",
      "source": [
        "remove_punc(text)"
      ],
      "metadata": {
        "execution": {
          "iopub.status.busy": "2021-12-08T11:48:36.141657Z",
          "iopub.execute_input": "2021-12-08T11:48:36.142326Z",
          "iopub.status.idle": "2021-12-08T11:48:36.147256Z",
          "shell.execute_reply.started": "2021-12-08T11:48:36.142291Z",
          "shell.execute_reply": "2021-12-08T11:48:36.14647Z"
        },
        "trusted": true,
        "colab": {
          "base_uri": "https://localhost:8080/",
          "height": 36
        },
        "id": "NKFrbDbdNoLk",
        "outputId": "e996dcd7-a748-4f3a-eb76-67aa1cb1a199"
      },
      "outputs": [
        {
          "output_type": "execute_result",
          "data": {
            "text/plain": [
              "'string With Punctuation'"
            ],
            "application/vnd.google.colaboratory.intrinsic+json": {
              "type": "string"
            }
          },
          "metadata": {},
          "execution_count": 29
        }
      ],
      "execution_count": 29
    },
    {
      "cell_type": "code",
      "source": [
        "df['overview'][5]"
      ],
      "metadata": {
        "execution": {
          "iopub.status.busy": "2021-12-08T11:30:35.292632Z",
          "iopub.execute_input": "2021-12-08T11:30:35.293558Z",
          "iopub.status.idle": "2021-12-08T11:30:35.299402Z",
          "shell.execute_reply.started": "2021-12-08T11:30:35.293506Z",
          "shell.execute_reply": "2021-12-08T11:30:35.298461Z"
        },
        "trusted": true,
        "colab": {
          "base_uri": "https://localhost:8080/",
          "height": 70
        },
        "id": "7g1HHUBmNoLk",
        "outputId": "7a6320fa-1783-4e6d-ed43-fe7e74bde43f"
      },
      "outputs": [
        {
          "output_type": "execute_result",
          "data": {
            "text/plain": [
              "'raj is a rich, carefree, happy-go-lucky second generation nri. simran is the daughter of chaudhary baldev singh, who in spite of being an nri is very strict about adherence to indian values. simran has left for india to be married to her childhood fiancé. raj leaves for india with a mission at his hands, to claim his lady love under the noses of her whole family. thus begins a saga.'"
            ],
            "application/vnd.google.colaboratory.intrinsic+json": {
              "type": "string"
            }
          },
          "metadata": {},
          "execution_count": 26
        }
      ],
      "execution_count": 26
    },
    {
      "cell_type": "code",
      "source": [
        "remove_punc(df['overview'][5])"
      ],
      "metadata": {
        "execution": {
          "iopub.status.busy": "2021-12-08T11:30:45.93977Z",
          "iopub.execute_input": "2021-12-08T11:30:45.940503Z",
          "iopub.status.idle": "2021-12-08T11:30:45.946977Z",
          "shell.execute_reply.started": "2021-12-08T11:30:45.94044Z",
          "shell.execute_reply": "2021-12-08T11:30:45.946183Z"
        },
        "trusted": true,
        "colab": {
          "base_uri": "https://localhost:8080/",
          "height": 70
        },
        "id": "sl9B_X_bNoLk",
        "outputId": "48fb5046-392e-46e2-d678-dc5e78757c68"
      },
      "outputs": [
        {
          "output_type": "execute_result",
          "data": {
            "text/plain": [
              "'raj is a rich carefree happygolucky second generation nri simran is the daughter of chaudhary baldev singh who in spite of being an nri is very strict about adherence to indian values simran has left for india to be married to her childhood fiancé raj leaves for india with a mission at his hands to claim his lady love under the noses of her whole family thus begins a saga'"
            ],
            "application/vnd.google.colaboratory.intrinsic+json": {
              "type": "string"
            }
          },
          "metadata": {},
          "execution_count": 30
        }
      ],
      "execution_count": 30
    },
    {
      "cell_type": "code",
      "source": [
        "chat_words"
      ],
      "metadata": {
        "execution": {
          "iopub.status.busy": "2021-12-08T20:20:03.604312Z",
          "iopub.execute_input": "2021-12-08T20:20:03.604596Z",
          "iopub.status.idle": "2021-12-08T20:20:03.612302Z",
          "shell.execute_reply.started": "2021-12-08T20:20:03.604568Z",
          "shell.execute_reply": "2021-12-08T20:20:03.611428Z"
        },
        "trusted": true,
        "colab": {
          "base_uri": "https://localhost:8080/",
          "height": 141
        },
        "id": "1g9Al_XDNoLk",
        "outputId": "7d278334-6c13-47a8-e583-574d9109e2d8"
      },
      "outputs": [
        {
          "output_type": "error",
          "ename": "NameError",
          "evalue": "name 'chat_words' is not defined",
          "traceback": [
            "\u001b[0;31m---------------------------------------------------------------------------\u001b[0m",
            "\u001b[0;31mNameError\u001b[0m                                 Traceback (most recent call last)",
            "\u001b[0;32m/tmp/ipython-input-2916379194.py\u001b[0m in \u001b[0;36m<cell line: 0>\u001b[0;34m()\u001b[0m\n\u001b[0;32m----> 1\u001b[0;31m \u001b[0mchat_words\u001b[0m\u001b[0;34m\u001b[0m\u001b[0;34m\u001b[0m\u001b[0m\n\u001b[0m",
            "\u001b[0;31mNameError\u001b[0m: name 'chat_words' is not defined"
          ]
        }
      ],
      "execution_count": 31
    },
    {
      "cell_type": "code",
      "source": [
        "def chat_conversion(text):\n",
        "    new_text = []\n",
        "    for w in text.split():\n",
        "        if w.upper() in chat_words:\n",
        "            new_text.append(chat_words[w.upper()])\n",
        "        else:\n",
        "            new_text.append(w)\n",
        "    return \" \".join(new_text)"
      ],
      "metadata": {
        "execution": {
          "iopub.status.busy": "2021-12-08T20:22:14.393112Z",
          "iopub.execute_input": "2021-12-08T20:22:14.393841Z",
          "iopub.status.idle": "2021-12-08T20:22:14.398492Z",
          "shell.execute_reply.started": "2021-12-08T20:22:14.393808Z",
          "shell.execute_reply": "2021-12-08T20:22:14.397611Z"
        },
        "trusted": true,
        "id": "kVqO7wvjNoLl"
      },
      "outputs": [],
      "execution_count": null
    },
    {
      "cell_type": "code",
      "source": [
        "chat_conversion('IMHO he is the best')"
      ],
      "metadata": {
        "execution": {
          "iopub.status.busy": "2021-12-08T20:27:43.943069Z",
          "iopub.execute_input": "2021-12-08T20:27:43.943973Z",
          "iopub.status.idle": "2021-12-08T20:27:43.949927Z",
          "shell.execute_reply.started": "2021-12-08T20:27:43.94393Z",
          "shell.execute_reply": "2021-12-08T20:27:43.948991Z"
        },
        "trusted": true,
        "id": "6aobxGPRNoLl"
      },
      "outputs": [],
      "execution_count": null
    },
    {
      "cell_type": "code",
      "source": [
        "chat_conversion('FYI delhi is the capital of india')"
      ],
      "metadata": {
        "execution": {
          "iopub.status.busy": "2021-12-08T20:27:50.001509Z",
          "iopub.execute_input": "2021-12-08T20:27:50.00189Z",
          "iopub.status.idle": "2021-12-08T20:27:50.006963Z",
          "shell.execute_reply.started": "2021-12-08T20:27:50.001864Z",
          "shell.execute_reply": "2021-12-08T20:27:50.006143Z"
        },
        "trusted": true,
        "id": "I5lAWayANoLl"
      },
      "outputs": [],
      "execution_count": null
    },
    {
      "cell_type": "code",
      "source": [
        "from textblob import TextBlob"
      ],
      "metadata": {
        "execution": {
          "iopub.status.busy": "2021-12-08T20:43:56.99156Z",
          "iopub.execute_input": "2021-12-08T20:43:56.991858Z",
          "iopub.status.idle": "2021-12-08T20:43:58.636292Z",
          "shell.execute_reply.started": "2021-12-08T20:43:56.991826Z",
          "shell.execute_reply": "2021-12-08T20:43:58.635444Z"
        },
        "trusted": true,
        "id": "GO8HnxegNoLl"
      },
      "outputs": [],
      "execution_count": 33
    },
    {
      "cell_type": "code",
      "source": [
        "incorrect_text = 'ceertain conditionas duriing seveal ggenerations aree moodified in the saame maner.'\n",
        "\n",
        "textBlb = TextBlob(incorrect_text)\n",
        "\n",
        "textBlb.correct().string"
      ],
      "metadata": {
        "execution": {
          "iopub.status.busy": "2021-12-08T20:45:03.888211Z",
          "iopub.execute_input": "2021-12-08T20:45:03.889288Z",
          "iopub.status.idle": "2021-12-08T20:45:03.901265Z",
          "shell.execute_reply.started": "2021-12-08T20:45:03.889239Z",
          "shell.execute_reply": "2021-12-08T20:45:03.900308Z"
        },
        "trusted": true,
        "colab": {
          "base_uri": "https://localhost:8080/",
          "height": 36
        },
        "id": "iX7GxDjiNoLl",
        "outputId": "eb4ecad9-0aa8-4c6f-9d65-8aabd9675e63"
      },
      "outputs": [
        {
          "output_type": "execute_result",
          "data": {
            "text/plain": [
              "'certain conditions during several generations are modified in the same manner.'"
            ],
            "application/vnd.google.colaboratory.intrinsic+json": {
              "type": "string"
            }
          },
          "metadata": {},
          "execution_count": 34
        }
      ],
      "execution_count": 34
    },
    {
      "cell_type": "code",
      "source": [
        "from nltk.corpus import stopwords"
      ],
      "metadata": {
        "execution": {
          "iopub.status.busy": "2021-12-08T21:01:00.673954Z",
          "iopub.execute_input": "2021-12-08T21:01:00.674241Z",
          "iopub.status.idle": "2021-12-08T21:01:00.678455Z",
          "shell.execute_reply.started": "2021-12-08T21:01:00.67421Z",
          "shell.execute_reply": "2021-12-08T21:01:00.677834Z"
        },
        "trusted": true,
        "id": "SeTU2v80NoLl"
      },
      "outputs": [],
      "execution_count": 40
    },
    {
      "cell_type": "code",
      "source": [
        "stopwords.words('english')"
      ],
      "metadata": {
        "execution": {
          "iopub.status.busy": "2021-12-08T21:51:03.687894Z",
          "iopub.execute_input": "2021-12-08T21:51:03.688191Z",
          "iopub.status.idle": "2021-12-08T21:51:03.70028Z",
          "shell.execute_reply.started": "2021-12-08T21:51:03.688159Z",
          "shell.execute_reply": "2021-12-08T21:51:03.698834Z"
        },
        "trusted": true,
        "colab": {
          "base_uri": "https://localhost:8080/",
          "height": 1000
        },
        "id": "2troLnp6NoLm",
        "outputId": "1c9a50c8-11fa-4982-a335-c48f227fcac2"
      },
      "outputs": [
        {
          "output_type": "error",
          "ename": "LookupError",
          "evalue": "\n**********************************************************************\n  Resource \u001b[93mstopwords\u001b[0m not found.\n  Please use the NLTK Downloader to obtain the resource:\n\n  \u001b[31m>>> import nltk\n  >>> nltk.download('stopwords')\n  \u001b[0m\n  For more information see: https://www.nltk.org/data.html\n\n  Attempted to load \u001b[93mcorpora/stopwords\u001b[0m\n\n  Searched in:\n    - '/root/nltk_data'\n    - '/usr/nltk_data'\n    - '/usr/share/nltk_data'\n    - '/usr/lib/nltk_data'\n    - '/usr/share/nltk_data'\n    - '/usr/local/share/nltk_data'\n    - '/usr/lib/nltk_data'\n    - '/usr/local/lib/nltk_data'\n**********************************************************************\n",
          "traceback": [
            "\u001b[0;31m---------------------------------------------------------------------------\u001b[0m",
            "\u001b[0;31mLookupError\u001b[0m                               Traceback (most recent call last)",
            "\u001b[0;32m/usr/local/lib/python3.11/dist-packages/nltk/corpus/util.py\u001b[0m in \u001b[0;36m__load\u001b[0;34m(self)\u001b[0m\n\u001b[1;32m     83\u001b[0m                 \u001b[0;32mtry\u001b[0m\u001b[0;34m:\u001b[0m\u001b[0;34m\u001b[0m\u001b[0;34m\u001b[0m\u001b[0m\n\u001b[0;32m---> 84\u001b[0;31m                     \u001b[0mroot\u001b[0m \u001b[0;34m=\u001b[0m \u001b[0mnltk\u001b[0m\u001b[0;34m.\u001b[0m\u001b[0mdata\u001b[0m\u001b[0;34m.\u001b[0m\u001b[0mfind\u001b[0m\u001b[0;34m(\u001b[0m\u001b[0;34mf\"{self.subdir}/{zip_name}\"\u001b[0m\u001b[0;34m)\u001b[0m\u001b[0;34m\u001b[0m\u001b[0;34m\u001b[0m\u001b[0m\n\u001b[0m\u001b[1;32m     85\u001b[0m                 \u001b[0;32mexcept\u001b[0m \u001b[0mLookupError\u001b[0m\u001b[0;34m:\u001b[0m\u001b[0;34m\u001b[0m\u001b[0;34m\u001b[0m\u001b[0m\n",
            "\u001b[0;32m/usr/local/lib/python3.11/dist-packages/nltk/data.py\u001b[0m in \u001b[0;36mfind\u001b[0;34m(resource_name, paths)\u001b[0m\n\u001b[1;32m    578\u001b[0m     \u001b[0mresource_not_found\u001b[0m \u001b[0;34m=\u001b[0m \u001b[0;34mf\"\\n{sep}\\n{msg}\\n{sep}\\n\"\u001b[0m\u001b[0;34m\u001b[0m\u001b[0;34m\u001b[0m\u001b[0m\n\u001b[0;32m--> 579\u001b[0;31m     \u001b[0;32mraise\u001b[0m \u001b[0mLookupError\u001b[0m\u001b[0;34m(\u001b[0m\u001b[0mresource_not_found\u001b[0m\u001b[0;34m)\u001b[0m\u001b[0;34m\u001b[0m\u001b[0;34m\u001b[0m\u001b[0m\n\u001b[0m\u001b[1;32m    580\u001b[0m \u001b[0;34m\u001b[0m\u001b[0m\n",
            "\u001b[0;31mLookupError\u001b[0m: \n**********************************************************************\n  Resource \u001b[93mstopwords\u001b[0m not found.\n  Please use the NLTK Downloader to obtain the resource:\n\n  \u001b[31m>>> import nltk\n  >>> nltk.download('stopwords')\n  \u001b[0m\n  For more information see: https://www.nltk.org/data.html\n\n  Attempted to load \u001b[93mcorpora/stopwords.zip/stopwords/\u001b[0m\n\n  Searched in:\n    - '/root/nltk_data'\n    - '/usr/nltk_data'\n    - '/usr/share/nltk_data'\n    - '/usr/lib/nltk_data'\n    - '/usr/share/nltk_data'\n    - '/usr/local/share/nltk_data'\n    - '/usr/lib/nltk_data'\n    - '/usr/local/lib/nltk_data'\n**********************************************************************\n",
            "\nDuring handling of the above exception, another exception occurred:\n",
            "\u001b[0;31mLookupError\u001b[0m                               Traceback (most recent call last)",
            "\u001b[0;32m/tmp/ipython-input-2437823835.py\u001b[0m in \u001b[0;36m<cell line: 0>\u001b[0;34m()\u001b[0m\n\u001b[0;32m----> 1\u001b[0;31m \u001b[0mstopwords\u001b[0m\u001b[0;34m.\u001b[0m\u001b[0mwords\u001b[0m\u001b[0;34m(\u001b[0m\u001b[0;34m'english'\u001b[0m\u001b[0;34m)\u001b[0m\u001b[0;34m\u001b[0m\u001b[0;34m\u001b[0m\u001b[0m\n\u001b[0m",
            "\u001b[0;32m/usr/local/lib/python3.11/dist-packages/nltk/corpus/util.py\u001b[0m in \u001b[0;36m__getattr__\u001b[0;34m(self, attr)\u001b[0m\n\u001b[1;32m    118\u001b[0m             \u001b[0;32mraise\u001b[0m \u001b[0mAttributeError\u001b[0m\u001b[0;34m(\u001b[0m\u001b[0;34m\"LazyCorpusLoader object has no attribute '__bases__'\"\u001b[0m\u001b[0;34m)\u001b[0m\u001b[0;34m\u001b[0m\u001b[0;34m\u001b[0m\u001b[0m\n\u001b[1;32m    119\u001b[0m \u001b[0;34m\u001b[0m\u001b[0m\n\u001b[0;32m--> 120\u001b[0;31m         \u001b[0mself\u001b[0m\u001b[0;34m.\u001b[0m\u001b[0m__load\u001b[0m\u001b[0;34m(\u001b[0m\u001b[0;34m)\u001b[0m\u001b[0;34m\u001b[0m\u001b[0;34m\u001b[0m\u001b[0m\n\u001b[0m\u001b[1;32m    121\u001b[0m         \u001b[0;31m# This looks circular, but its not, since __load() changes our\u001b[0m\u001b[0;34m\u001b[0m\u001b[0;34m\u001b[0m\u001b[0m\n\u001b[1;32m    122\u001b[0m         \u001b[0;31m# __class__ to something new:\u001b[0m\u001b[0;34m\u001b[0m\u001b[0;34m\u001b[0m\u001b[0m\n",
            "\u001b[0;32m/usr/local/lib/python3.11/dist-packages/nltk/corpus/util.py\u001b[0m in \u001b[0;36m__load\u001b[0;34m(self)\u001b[0m\n\u001b[1;32m     84\u001b[0m                     \u001b[0mroot\u001b[0m \u001b[0;34m=\u001b[0m \u001b[0mnltk\u001b[0m\u001b[0;34m.\u001b[0m\u001b[0mdata\u001b[0m\u001b[0;34m.\u001b[0m\u001b[0mfind\u001b[0m\u001b[0;34m(\u001b[0m\u001b[0;34mf\"{self.subdir}/{zip_name}\"\u001b[0m\u001b[0;34m)\u001b[0m\u001b[0;34m\u001b[0m\u001b[0;34m\u001b[0m\u001b[0m\n\u001b[1;32m     85\u001b[0m                 \u001b[0;32mexcept\u001b[0m \u001b[0mLookupError\u001b[0m\u001b[0;34m:\u001b[0m\u001b[0;34m\u001b[0m\u001b[0;34m\u001b[0m\u001b[0m\n\u001b[0;32m---> 86\u001b[0;31m                     \u001b[0;32mraise\u001b[0m \u001b[0me\u001b[0m\u001b[0;34m\u001b[0m\u001b[0;34m\u001b[0m\u001b[0m\n\u001b[0m\u001b[1;32m     87\u001b[0m \u001b[0;34m\u001b[0m\u001b[0m\n\u001b[1;32m     88\u001b[0m         \u001b[0;31m# Load the corpus.\u001b[0m\u001b[0;34m\u001b[0m\u001b[0;34m\u001b[0m\u001b[0m\n",
            "\u001b[0;32m/usr/local/lib/python3.11/dist-packages/nltk/corpus/util.py\u001b[0m in \u001b[0;36m__load\u001b[0;34m(self)\u001b[0m\n\u001b[1;32m     79\u001b[0m         \u001b[0;32melse\u001b[0m\u001b[0;34m:\u001b[0m\u001b[0;34m\u001b[0m\u001b[0;34m\u001b[0m\u001b[0m\n\u001b[1;32m     80\u001b[0m             \u001b[0;32mtry\u001b[0m\u001b[0;34m:\u001b[0m\u001b[0;34m\u001b[0m\u001b[0;34m\u001b[0m\u001b[0m\n\u001b[0;32m---> 81\u001b[0;31m                 \u001b[0mroot\u001b[0m \u001b[0;34m=\u001b[0m \u001b[0mnltk\u001b[0m\u001b[0;34m.\u001b[0m\u001b[0mdata\u001b[0m\u001b[0;34m.\u001b[0m\u001b[0mfind\u001b[0m\u001b[0;34m(\u001b[0m\u001b[0;34mf\"{self.subdir}/{self.__name}\"\u001b[0m\u001b[0;34m)\u001b[0m\u001b[0;34m\u001b[0m\u001b[0;34m\u001b[0m\u001b[0m\n\u001b[0m\u001b[1;32m     82\u001b[0m             \u001b[0;32mexcept\u001b[0m \u001b[0mLookupError\u001b[0m \u001b[0;32mas\u001b[0m \u001b[0me\u001b[0m\u001b[0;34m:\u001b[0m\u001b[0;34m\u001b[0m\u001b[0;34m\u001b[0m\u001b[0m\n\u001b[1;32m     83\u001b[0m                 \u001b[0;32mtry\u001b[0m\u001b[0;34m:\u001b[0m\u001b[0;34m\u001b[0m\u001b[0;34m\u001b[0m\u001b[0m\n",
            "\u001b[0;32m/usr/local/lib/python3.11/dist-packages/nltk/data.py\u001b[0m in \u001b[0;36mfind\u001b[0;34m(resource_name, paths)\u001b[0m\n\u001b[1;32m    577\u001b[0m     \u001b[0msep\u001b[0m \u001b[0;34m=\u001b[0m \u001b[0;34m\"*\"\u001b[0m \u001b[0;34m*\u001b[0m \u001b[0;36m70\u001b[0m\u001b[0;34m\u001b[0m\u001b[0;34m\u001b[0m\u001b[0m\n\u001b[1;32m    578\u001b[0m     \u001b[0mresource_not_found\u001b[0m \u001b[0;34m=\u001b[0m \u001b[0;34mf\"\\n{sep}\\n{msg}\\n{sep}\\n\"\u001b[0m\u001b[0;34m\u001b[0m\u001b[0;34m\u001b[0m\u001b[0m\n\u001b[0;32m--> 579\u001b[0;31m     \u001b[0;32mraise\u001b[0m \u001b[0mLookupError\u001b[0m\u001b[0;34m(\u001b[0m\u001b[0mresource_not_found\u001b[0m\u001b[0;34m)\u001b[0m\u001b[0;34m\u001b[0m\u001b[0;34m\u001b[0m\u001b[0m\n\u001b[0m\u001b[1;32m    580\u001b[0m \u001b[0;34m\u001b[0m\u001b[0m\n\u001b[1;32m    581\u001b[0m \u001b[0;34m\u001b[0m\u001b[0m\n",
            "\u001b[0;31mLookupError\u001b[0m: \n**********************************************************************\n  Resource \u001b[93mstopwords\u001b[0m not found.\n  Please use the NLTK Downloader to obtain the resource:\n\n  \u001b[31m>>> import nltk\n  >>> nltk.download('stopwords')\n  \u001b[0m\n  For more information see: https://www.nltk.org/data.html\n\n  Attempted to load \u001b[93mcorpora/stopwords\u001b[0m\n\n  Searched in:\n    - '/root/nltk_data'\n    - '/usr/nltk_data'\n    - '/usr/share/nltk_data'\n    - '/usr/lib/nltk_data'\n    - '/usr/share/nltk_data'\n    - '/usr/local/share/nltk_data'\n    - '/usr/lib/nltk_data'\n    - '/usr/local/lib/nltk_data'\n**********************************************************************\n"
          ]
        }
      ],
      "execution_count": 39
    },
    {
      "cell_type": "code",
      "source": [
        "def remove_stopwords(text):\n",
        "    new_text = []\n",
        "\n",
        "    for word in text.split():\n",
        "        if word in stopwords.words('english'):\n",
        "            new_text.append('')\n",
        "        else:\n",
        "            new_text.append(word)\n",
        "    x = new_text[:]\n",
        "    new_text.clear()\n",
        "    return \" \".join(x)"
      ],
      "metadata": {
        "execution": {
          "iopub.status.busy": "2021-12-08T21:11:12.347842Z",
          "iopub.execute_input": "2021-12-08T21:11:12.348251Z",
          "iopub.status.idle": "2021-12-08T21:11:12.354127Z",
          "shell.execute_reply.started": "2021-12-08T21:11:12.34821Z",
          "shell.execute_reply": "2021-12-08T21:11:12.353513Z"
        },
        "trusted": true,
        "id": "7Qce2nO1NoLm"
      },
      "outputs": [],
      "execution_count": null
    },
    {
      "cell_type": "code",
      "source": [
        "remove_stopwords('probably my all-time favorite movie, a story of selflessness, sacrifice and dedication to a noble cause, but it\\'s not preachy or boring. it just never gets old, despite my having seen it some 15 or more times')"
      ],
      "metadata": {
        "execution": {
          "iopub.status.busy": "2021-12-08T21:11:13.833222Z",
          "iopub.execute_input": "2021-12-08T21:11:13.833512Z",
          "iopub.status.idle": "2021-12-08T21:11:13.844653Z",
          "shell.execute_reply.started": "2021-12-08T21:11:13.833484Z",
          "shell.execute_reply": "2021-12-08T21:11:13.843718Z"
        },
        "trusted": true,
        "id": "rrs7n2PoNoLm"
      },
      "outputs": [],
      "execution_count": null
    },
    {
      "cell_type": "code",
      "source": [
        "df.head()"
      ],
      "metadata": {
        "execution": {
          "iopub.status.busy": "2021-12-08T21:11:16.999135Z",
          "iopub.execute_input": "2021-12-08T21:11:16.999954Z",
          "iopub.status.idle": "2021-12-08T21:11:17.009246Z",
          "shell.execute_reply.started": "2021-12-08T21:11:16.999916Z",
          "shell.execute_reply": "2021-12-08T21:11:17.00868Z"
        },
        "trusted": true,
        "id": "ANwULj1uNoLm"
      },
      "outputs": [],
      "execution_count": null
    },
    {
      "cell_type": "code",
      "source": [
        "df['review'].apply(remove_stopwords)"
      ],
      "metadata": {
        "execution": {
          "iopub.status.busy": "2021-12-08T21:11:21.643717Z",
          "iopub.execute_input": "2021-12-08T21:11:21.644149Z",
          "iopub.status.idle": "2021-12-08T21:32:50.295058Z",
          "shell.execute_reply.started": "2021-12-08T21:11:21.644112Z",
          "shell.execute_reply": "2021-12-08T21:32:50.294211Z"
        },
        "trusted": true,
        "id": "kVPU0s5XNoLm"
      },
      "outputs": [],
      "execution_count": null
    },
    {
      "cell_type": "code",
      "source": [],
      "metadata": {
        "id": "L5Z_Fmw5NoLm"
      },
      "outputs": [],
      "execution_count": null
    },
    {
      "cell_type": "code",
      "source": [
        "import re\n",
        "def remove_emoji(text):\n",
        "    emoji_pattern = re.compile(\"[\"\n",
        "                           u\"\\U0001F600-\\U0001F64F\"\n",
        "                           u\"\\U0001F300-\\U0001F5FF\"\n",
        "                           u\"\\U0001F680-\\U0001F6FF\"\n",
        "                           u\"\\U0001F1E0-\\U0001F1FF\"\n",
        "                           u\"\\U00002702-\\U000027B0\"\n",
        "                           u\"\\U000024C2-\\U0001F251\"\n",
        "                           \"]+\", flags=re.UNICODE)\n",
        "    return emoji_pattern.sub(r'', text)"
      ],
      "metadata": {
        "execution": {
          "iopub.status.busy": "2021-12-09T06:36:47.342185Z",
          "iopub.execute_input": "2021-12-09T06:36:47.342491Z",
          "iopub.status.idle": "2021-12-09T06:36:47.347779Z",
          "shell.execute_reply.started": "2021-12-09T06:36:47.342459Z",
          "shell.execute_reply": "2021-12-09T06:36:47.34681Z"
        },
        "trusted": true,
        "id": "VRbxHCuTNoLm"
      },
      "outputs": [],
      "execution_count": null
    },
    {
      "cell_type": "code",
      "source": [
        "remove_emoji(\"Loved the movie. It was 😘😘\")"
      ],
      "metadata": {
        "execution": {
          "iopub.status.busy": "2021-12-09T06:41:39.47184Z",
          "iopub.execute_input": "2021-12-09T06:41:39.472106Z",
          "iopub.status.idle": "2021-12-09T06:41:39.478264Z",
          "shell.execute_reply.started": "2021-12-09T06:41:39.472077Z",
          "shell.execute_reply": "2021-12-09T06:41:39.477363Z"
        },
        "trusted": true,
        "id": "gkjQ-apeNoLq"
      },
      "outputs": [],
      "execution_count": null
    },
    {
      "cell_type": "code",
      "source": [
        "remove_emoji(\"Lmao 😂😂\")"
      ],
      "metadata": {
        "execution": {
          "iopub.status.busy": "2021-12-09T06:41:44.668296Z",
          "iopub.execute_input": "2021-12-09T06:41:44.668991Z",
          "iopub.status.idle": "2021-12-09T06:41:44.674004Z",
          "shell.execute_reply.started": "2021-12-09T06:41:44.668952Z",
          "shell.execute_reply": "2021-12-09T06:41:44.673292Z"
        },
        "trusted": true,
        "id": "L_VgTjr_NoLq"
      },
      "outputs": [],
      "execution_count": null
    },
    {
      "cell_type": "code",
      "source": [
        "import emoji\n",
        "print(emoji.demojize('Python is 🔥'))"
      ],
      "metadata": {
        "execution": {
          "iopub.status.busy": "2021-12-09T06:42:13.319265Z",
          "iopub.execute_input": "2021-12-09T06:42:13.319769Z",
          "iopub.status.idle": "2021-12-09T06:42:13.324864Z",
          "shell.execute_reply.started": "2021-12-09T06:42:13.319732Z",
          "shell.execute_reply": "2021-12-09T06:42:13.324062Z"
        },
        "trusted": true,
        "id": "7JBTjpTDNoLq"
      },
      "outputs": [],
      "execution_count": null
    },
    {
      "cell_type": "code",
      "source": [
        "print(emoji.demojize('Loved the movie. It was 😘'))"
      ],
      "metadata": {
        "execution": {
          "iopub.status.busy": "2021-12-09T06:42:20.986399Z",
          "iopub.execute_input": "2021-12-09T06:42:20.986779Z",
          "iopub.status.idle": "2021-12-09T06:42:20.992126Z",
          "shell.execute_reply.started": "2021-12-09T06:42:20.98675Z",
          "shell.execute_reply": "2021-12-09T06:42:20.99145Z"
        },
        "trusted": true,
        "id": "Blnu1IfFNoLq"
      },
      "outputs": [],
      "execution_count": null
    },
    {
      "cell_type": "markdown",
      "source": [
        "### 1. Using the split function"
      ],
      "metadata": {
        "id": "76vv5Br5NoLr"
      }
    },
    {
      "cell_type": "code",
      "source": [
        "\n",
        "sent1 = 'I am going to delhi'\n",
        "sent1.split()"
      ],
      "metadata": {
        "execution": {
          "iopub.status.busy": "2021-12-10T04:44:33.755979Z",
          "iopub.execute_input": "2021-12-10T04:44:33.75667Z",
          "iopub.status.idle": "2021-12-10T04:44:33.787127Z",
          "shell.execute_reply.started": "2021-12-10T04:44:33.75656Z",
          "shell.execute_reply": "2021-12-10T04:44:33.786397Z"
        },
        "trusted": true,
        "id": "ruydMJPGNoLr"
      },
      "outputs": [],
      "execution_count": null
    },
    {
      "cell_type": "code",
      "source": [
        "\n",
        "sent2 = 'I am going to delhi. I will stay there for 3 days. Let\\'s hope the trip to be great'\n",
        "sent2.split('.')"
      ],
      "metadata": {
        "execution": {
          "iopub.status.busy": "2021-12-10T04:45:55.577298Z",
          "iopub.execute_input": "2021-12-10T04:45:55.578025Z",
          "iopub.status.idle": "2021-12-10T04:45:55.583765Z",
          "shell.execute_reply.started": "2021-12-10T04:45:55.577987Z",
          "shell.execute_reply": "2021-12-10T04:45:55.582916Z"
        },
        "trusted": true,
        "id": "6mZXkOgCNoLr"
      },
      "outputs": [],
      "execution_count": null
    },
    {
      "cell_type": "code",
      "source": [
        "\n",
        "sent3 = 'I am going to delhi!'\n",
        "sent3.split()"
      ],
      "metadata": {
        "execution": {
          "iopub.status.busy": "2021-12-10T05:10:44.345911Z",
          "iopub.execute_input": "2021-12-10T05:10:44.346272Z",
          "iopub.status.idle": "2021-12-10T05:10:44.352546Z",
          "shell.execute_reply.started": "2021-12-10T05:10:44.346237Z",
          "shell.execute_reply": "2021-12-10T05:10:44.351739Z"
        },
        "trusted": true,
        "id": "8Ut5YjM1NoLr"
      },
      "outputs": [],
      "execution_count": null
    },
    {
      "cell_type": "code",
      "source": [
        "sent4 = 'Where do think I should go? I have 3 day holiday'\n",
        "sent4.split('.')"
      ],
      "metadata": {
        "execution": {
          "iopub.status.busy": "2021-12-10T04:49:30.557836Z",
          "iopub.execute_input": "2021-12-10T04:49:30.558157Z",
          "iopub.status.idle": "2021-12-10T04:49:30.565284Z",
          "shell.execute_reply.started": "2021-12-10T04:49:30.558121Z",
          "shell.execute_reply": "2021-12-10T04:49:30.564127Z"
        },
        "trusted": true,
        "id": "5flVkJt5NoLr"
      },
      "outputs": [],
      "execution_count": null
    },
    {
      "cell_type": "markdown",
      "source": [
        "### 2. Regular Expression"
      ],
      "metadata": {
        "id": "re78HumuNoLs"
      }
    },
    {
      "cell_type": "code",
      "source": [
        "import re\n",
        "sent3 = 'I am going to delhi!'\n",
        "tokens = re.findall(\"[\\w']+\", sent3)\n",
        "tokens"
      ],
      "metadata": {
        "execution": {
          "iopub.status.busy": "2021-12-10T05:11:43.892933Z",
          "iopub.execute_input": "2021-12-10T05:11:43.894008Z",
          "iopub.status.idle": "2021-12-10T05:11:43.901551Z",
          "shell.execute_reply.started": "2021-12-10T05:11:43.893954Z",
          "shell.execute_reply": "2021-12-10T05:11:43.900591Z"
        },
        "trusted": true,
        "id": "j9PZdpjvNoLs"
      },
      "outputs": [],
      "execution_count": null
    },
    {
      "cell_type": "code",
      "source": [
        "\n",
        "text = \"\"\"Lorem Ipsum is simply dummy text of the printing and typesetting industry?\n",
        "Lorem Ipsum has been the industry's standard dummy text ever since the 1500s,\n",
        "when an unknown printer took a galley of type and scrambled it to make a type specimen book.\"\"\"\n",
        "sentences = re.compile('[.!?] ').split(text)\n",
        "sentences"
      ],
      "metadata": {
        "execution": {
          "iopub.status.busy": "2021-12-10T04:53:44.640578Z",
          "iopub.execute_input": "2021-12-10T04:53:44.641066Z",
          "iopub.status.idle": "2021-12-10T04:53:44.648281Z",
          "shell.execute_reply.started": "2021-12-10T04:53:44.641018Z",
          "shell.execute_reply": "2021-12-10T04:53:44.647378Z"
        },
        "trusted": true,
        "id": "nw1MBlMaNoLs"
      },
      "outputs": [],
      "execution_count": null
    },
    {
      "cell_type": "markdown",
      "source": [
        "### 3. NLTK"
      ],
      "metadata": {
        "id": "FdazEuuINoLs"
      }
    },
    {
      "cell_type": "code",
      "source": [
        "from nltk.tokenize import word_tokenize,sent_tokenize"
      ],
      "metadata": {
        "execution": {
          "iopub.status.busy": "2021-12-10T06:02:59.227483Z",
          "iopub.execute_input": "2021-12-10T06:02:59.227819Z",
          "iopub.status.idle": "2021-12-10T06:02:59.837259Z",
          "shell.execute_reply.started": "2021-12-10T06:02:59.227784Z",
          "shell.execute_reply": "2021-12-10T06:02:59.83643Z"
        },
        "trusted": true,
        "id": "n9xD3NVlNoLs"
      },
      "outputs": [],
      "execution_count": null
    },
    {
      "cell_type": "code",
      "source": [
        "sent1 = 'I am going to visit delhi!'\n",
        "word_tokenize(sent1)"
      ],
      "metadata": {
        "execution": {
          "iopub.status.busy": "2021-12-10T06:03:00.24139Z",
          "iopub.execute_input": "2021-12-10T06:03:00.241687Z",
          "iopub.status.idle": "2021-12-10T06:03:00.264556Z",
          "shell.execute_reply.started": "2021-12-10T06:03:00.241655Z",
          "shell.execute_reply": "2021-12-10T06:03:00.263798Z"
        },
        "trusted": true,
        "id": "CFSmjv5UNoLs"
      },
      "outputs": [],
      "execution_count": null
    },
    {
      "cell_type": "code",
      "source": [
        "text = \"\"\"Lorem Ipsum is simply dummy text of the printing and typesetting industry?\n",
        "Lorem Ipsum has been the industry's standard dummy text ever since the 1500s,\n",
        "when an unknown printer took a galley of type and scrambled it to make a type specimen book.\"\"\"\n",
        "\n",
        "sent_tokenize(text)"
      ],
      "metadata": {
        "execution": {
          "iopub.status.busy": "2021-12-10T06:03:00.915226Z",
          "iopub.execute_input": "2021-12-10T06:03:00.917544Z",
          "iopub.status.idle": "2021-12-10T06:03:00.924761Z",
          "shell.execute_reply.started": "2021-12-10T06:03:00.917502Z",
          "shell.execute_reply": "2021-12-10T06:03:00.923887Z"
        },
        "trusted": true,
        "id": "A-EJQBL0NoLs"
      },
      "outputs": [],
      "execution_count": null
    },
    {
      "cell_type": "code",
      "source": [
        "sent5 = 'I have a Ph.D in A.I'\n",
        "sent6 = \"We're here to help! mail us at nks@gmail.com\"\n",
        "sent7 = 'A 5km ride cost $10.50'\n",
        "\n",
        "word_tokenize(sent5)"
      ],
      "metadata": {
        "execution": {
          "iopub.status.busy": "2021-12-10T06:03:01.43408Z",
          "iopub.execute_input": "2021-12-10T06:03:01.434559Z",
          "iopub.status.idle": "2021-12-10T06:03:01.440415Z",
          "shell.execute_reply.started": "2021-12-10T06:03:01.434523Z",
          "shell.execute_reply": "2021-12-10T06:03:01.439625Z"
        },
        "trusted": true,
        "id": "DhKG8qCbNoLs"
      },
      "outputs": [],
      "execution_count": null
    },
    {
      "cell_type": "code",
      "source": [
        "word_tokenize(sent6)"
      ],
      "metadata": {
        "execution": {
          "iopub.status.busy": "2021-12-10T06:03:01.881917Z",
          "iopub.execute_input": "2021-12-10T06:03:01.882224Z",
          "iopub.status.idle": "2021-12-10T06:03:01.889139Z",
          "shell.execute_reply.started": "2021-12-10T06:03:01.882192Z",
          "shell.execute_reply": "2021-12-10T06:03:01.888215Z"
        },
        "trusted": true,
        "id": "Lyc4Ya3tNoLs"
      },
      "outputs": [],
      "execution_count": null
    },
    {
      "cell_type": "code",
      "source": [
        "word_tokenize(sent7)"
      ],
      "metadata": {
        "execution": {
          "iopub.status.busy": "2021-12-10T06:03:02.309928Z",
          "iopub.execute_input": "2021-12-10T06:03:02.310653Z",
          "iopub.status.idle": "2021-12-10T06:03:02.316444Z",
          "shell.execute_reply.started": "2021-12-10T06:03:02.310603Z",
          "shell.execute_reply": "2021-12-10T06:03:02.315765Z"
        },
        "trusted": true,
        "id": "DPPjjhVDNoLs"
      },
      "outputs": [],
      "execution_count": null
    },
    {
      "cell_type": "markdown",
      "source": [
        "### 4. Spacy"
      ],
      "metadata": {
        "id": "hzFTd1slNoLt"
      }
    },
    {
      "cell_type": "code",
      "source": [
        "import spacy\n",
        "nlp = spacy.load('en_core_web_sm')"
      ],
      "metadata": {
        "execution": {
          "iopub.status.busy": "2021-12-10T06:03:03.30623Z",
          "iopub.execute_input": "2021-12-10T06:03:03.306838Z",
          "iopub.status.idle": "2021-12-10T06:03:03.978703Z",
          "shell.execute_reply.started": "2021-12-10T06:03:03.306798Z",
          "shell.execute_reply": "2021-12-10T06:03:03.977552Z"
        },
        "trusted": true,
        "id": "Su3hpl8SNoLt"
      },
      "outputs": [],
      "execution_count": null
    },
    {
      "cell_type": "code",
      "source": [
        "doc1 = nlp(sent5)\n",
        "doc2 = nlp(sent6)\n",
        "doc3 = nlp(sent7)\n",
        "doc4 = nlp(sent1)"
      ],
      "metadata": {
        "execution": {
          "iopub.status.busy": "2021-12-10T06:03:04.015537Z",
          "iopub.execute_input": "2021-12-10T06:03:04.01614Z",
          "iopub.status.idle": "2021-12-10T06:03:04.051271Z",
          "shell.execute_reply.started": "2021-12-10T06:03:04.01609Z",
          "shell.execute_reply": "2021-12-10T06:03:04.050575Z"
        },
        "trusted": true,
        "id": "b53z4JL5NoLt"
      },
      "outputs": [],
      "execution_count": null
    },
    {
      "cell_type": "code",
      "source": [
        "for token in doc4:\n",
        "    print(token)"
      ],
      "metadata": {
        "execution": {
          "iopub.status.busy": "2021-12-10T06:03:42.944056Z",
          "iopub.execute_input": "2021-12-10T06:03:42.944624Z",
          "iopub.status.idle": "2021-12-10T06:03:42.952438Z",
          "shell.execute_reply.started": "2021-12-10T06:03:42.944559Z",
          "shell.execute_reply": "2021-12-10T06:03:42.9513Z"
        },
        "trusted": true,
        "id": "R4UNRSW5NoLt"
      },
      "outputs": [],
      "execution_count": null
    },
    {
      "cell_type": "code",
      "source": [],
      "metadata": {
        "id": "I3ibSFt1NoLt"
      },
      "outputs": [],
      "execution_count": null
    },
    {
      "cell_type": "code",
      "source": [],
      "metadata": {
        "id": "6tLjiQNvNoLt"
      },
      "outputs": [],
      "execution_count": null
    },
    {
      "cell_type": "code",
      "source": [],
      "metadata": {
        "id": "dRSoI9ywNoLt"
      },
      "outputs": [],
      "execution_count": null
    },
    {
      "cell_type": "code",
      "source": [
        "from nltk.stem.porter import PorterStemmer"
      ],
      "metadata": {
        "execution": {
          "iopub.status.busy": "2021-12-10T06:48:34.840023Z",
          "iopub.execute_input": "2021-12-10T06:48:34.841005Z",
          "iopub.status.idle": "2021-12-10T06:48:36.572437Z",
          "shell.execute_reply.started": "2021-12-10T06:48:34.840888Z",
          "shell.execute_reply": "2021-12-10T06:48:36.571736Z"
        },
        "trusted": true,
        "id": "cZHHZ99uNoLv"
      },
      "outputs": [],
      "execution_count": null
    },
    {
      "cell_type": "code",
      "source": [
        "ps = PorterStemmer()\n",
        "def stem_words(text):\n",
        "    return \" \".join([ps.stem(word) for word in text.split()])"
      ],
      "metadata": {
        "execution": {
          "iopub.status.busy": "2021-12-10T06:48:52.934307Z",
          "iopub.execute_input": "2021-12-10T06:48:52.93496Z",
          "iopub.status.idle": "2021-12-10T06:48:52.940919Z",
          "shell.execute_reply.started": "2021-12-10T06:48:52.934905Z",
          "shell.execute_reply": "2021-12-10T06:48:52.940229Z"
        },
        "trusted": true,
        "id": "1tFIMgRMNoLv"
      },
      "outputs": [],
      "execution_count": null
    },
    {
      "cell_type": "code",
      "source": [
        "sample = \"walk walks walking walked\"\n",
        "stem_words(sample)"
      ],
      "metadata": {
        "execution": {
          "iopub.status.busy": "2021-12-10T06:49:01.365203Z",
          "iopub.execute_input": "2021-12-10T06:49:01.365696Z",
          "iopub.status.idle": "2021-12-10T06:49:01.37523Z",
          "shell.execute_reply.started": "2021-12-10T06:49:01.365648Z",
          "shell.execute_reply": "2021-12-10T06:49:01.37406Z"
        },
        "trusted": true,
        "id": "2tQIjeKxNoLv"
      },
      "outputs": [],
      "execution_count": null
    },
    {
      "cell_type": "code",
      "source": [
        "text = 'probably my alltime favorite movie a story of selflessness sacrifice and dedication to a noble cause but its not preachy or boring it just never gets old despite my having seen it some 15 or more times in the last 25 years paul lukas performance brings tears to my eyes and bette davis in one of her very few truly sympathetic roles is a delight the kids are as grandma says more like dressedup midgets than children but that only makes them more fun to watch and the mothers slow awakening to whats happening in the world and under her own roof is believable and startling if i had a dozen thumbs theyd all be up for this movie'\n",
        "print(text)"
      ],
      "metadata": {
        "execution": {
          "iopub.status.busy": "2021-12-09T07:27:21.094084Z",
          "iopub.execute_input": "2021-12-09T07:27:21.094383Z",
          "iopub.status.idle": "2021-12-09T07:27:21.100345Z",
          "shell.execute_reply.started": "2021-12-09T07:27:21.094352Z",
          "shell.execute_reply": "2021-12-09T07:27:21.099323Z"
        },
        "trusted": true,
        "id": "GUe10-EtNoLv"
      },
      "outputs": [],
      "execution_count": null
    },
    {
      "cell_type": "code",
      "source": [
        "stem_words(text)"
      ],
      "metadata": {
        "execution": {
          "iopub.status.busy": "2021-12-09T07:27:23.991771Z",
          "iopub.execute_input": "2021-12-09T07:27:23.992653Z",
          "iopub.status.idle": "2021-12-09T07:27:24.003513Z",
          "shell.execute_reply.started": "2021-12-09T07:27:23.992613Z",
          "shell.execute_reply": "2021-12-09T07:27:24.002522Z"
        },
        "trusted": true,
        "id": "fS1DWXsZNoLv"
      },
      "outputs": [],
      "execution_count": null
    },
    {
      "cell_type": "code",
      "source": [
        "import nltk\n",
        "from nltk.stem import WordNetLemmatizer\n",
        "wordnet_lemmatizer = WordNetLemmatizer()\n",
        "\n",
        "sentence = \"He was running and eating at same time. He has bad habit of swimming after playing long hours in the Sun.\"\n",
        "punctuations=\"?:!.,;\"\n",
        "sentence_words = nltk.word_tokenize(sentence)\n",
        "for word in sentence_words:\n",
        "    if word in punctuations:\n",
        "        sentence_words.remove(word)\n",
        "\n",
        "sentence_words\n",
        "print(\"{0:20}{1:20}\".format(\"Word\",\"Lemma\"))\n",
        "for word in sentence_words:\n",
        "    print (\"{0:20}{1:20}\".format(word,wordnet_lemmatizer.lemmatize(word,pos='v')))"
      ],
      "metadata": {
        "execution": {
          "iopub.status.busy": "2021-12-10T07:49:09.331447Z",
          "iopub.execute_input": "2021-12-10T07:49:09.331787Z",
          "iopub.status.idle": "2021-12-10T07:49:09.342678Z",
          "shell.execute_reply.started": "2021-12-10T07:49:09.331757Z",
          "shell.execute_reply": "2021-12-10T07:49:09.341809Z"
        },
        "trusted": true,
        "id": "iwdNV9HhNoLv"
      },
      "outputs": [],
      "execution_count": null
    },
    {
      "cell_type": "code",
      "source": [],
      "metadata": {
        "id": "XeQlegS_NoLv"
      },
      "outputs": [],
      "execution_count": null
    }
  ]
}